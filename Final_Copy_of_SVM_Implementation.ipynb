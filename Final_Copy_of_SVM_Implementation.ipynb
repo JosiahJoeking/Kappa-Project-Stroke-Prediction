{
  "cells": [
    {
      "cell_type": "code",
      "execution_count": 1,
      "metadata": {
        "id": "h5fy1AavvVJ3"
      },
      "outputs": [],
      "source": [
        "import pandas as pd\n",
        "import numpy as np\n",
        "from pandas.api.types import is_numeric_dtype\n",
        "from sklearn.model_selection import KFold\n",
        "from sklearn.metrics import accuracy_score, precision_score, recall_score\n",
        "from sklearn.preprocessing import OneHotEncoder\n",
        "from sklearn.preprocessing import StandardScaler\n",
        "from sklearn.model_selection import train_test_split\n",
        "from sklearn import metrics\n",
        "import matplotlib.pyplot as plt\n",
        "import seaborn as sns\n",
        "from sklearn.metrics import classification_report\n",
        "from sklearn.model_selection import cross_val_score\n",
        "from sklearn import svm\n",
        "from imblearn.over_sampling import SMOTE\n",
        "from sklearn.metrics import confusion_matrix\n",
        "from sklearn.metrics import f1_score\n",
        "from sklearn.utils import shuffle"
      ]
    },
    {
      "cell_type": "markdown",
      "metadata": {
        "id": "zBb2RvIUzQty"
      },
      "source": [
        "Read in Stroke Dataset"
      ]
    },
    {
      "cell_type": "code",
      "execution_count": 2,
      "metadata": {
        "id": "LFlpENnYrpzI"
      },
      "outputs": [],
      "source": [
        "strokeDatasetURL = 'https://raw.githubusercontent.com/JosiahJoeking/Stroke-Dataset/main/healthcare-dataset-stroke-data.csv'\n",
        "df = pd.read_csv(strokeDatasetURL)"
      ]
    },
    {
      "cell_type": "markdown",
      "metadata": {
        "id": "iFUNywmv1FnU"
      },
      "source": [
        "Calculate Average of stroke"
      ]
    },
    {
      "cell_type": "code",
      "execution_count": 3,
      "metadata": {
        "id": "Dj6U3WxOzOGT"
      },
      "outputs": [],
      "source": [
        "strokeAVG = df.loc[:, 'stroke'].mean()"
      ]
    },
    {
      "cell_type": "code",
      "execution_count": 4,
      "metadata": {
        "id": "clAQ68xrwbeA"
      },
      "outputs": [],
      "source": [
        "BMI_avg = df.loc[:, 'bmi'].mean()\n",
        "df = df.fillna(value = BMI_avg)\n",
        "\n",
        "df.drop(columns=['id'], inplace=True)\n",
        "\n",
        "nan_df = df[df.isna().any(axis=1)]\n",
        "no_nan_df = df.dropna()"
      ]
    },
    {
      "cell_type": "code",
      "execution_count": 5,
      "metadata": {
        "id": "xOYzUWnrb5E-"
      },
      "outputs": [],
      "source": [
        "df_encoded = pd.get_dummies(df, columns=['gender', 'ever_married', 'work_type', 'Residence_type', 'smoking_status'])"
      ]
    },
    {
      "cell_type": "code",
      "execution_count": 6,
      "metadata": {
        "id": "q7Y8C8Qc4Soj"
      },
      "outputs": [],
      "source": [
        "k_folds = 5"
      ]
    },
    {
      "cell_type": "code",
      "execution_count": 7,
      "metadata": {
        "colab": {
          "base_uri": "https://localhost:8080/"
        },
        "id": "K2CyZV9VmcAJ",
        "outputId": "30be5131-24af-4e31-e116-1463be3736b0"
      },
      "outputs": [
        {
          "data": {
            "text/plain": [
              "5"
            ]
          },
          "execution_count": 7,
          "metadata": {},
          "output_type": "execute_result"
        }
      ],
      "source": [
        "inputs = df_encoded.drop(\"stroke\", axis=1).copy()\n",
        "target = df_encoded[\"stroke\"]\n",
        "\n",
        "X = inputs.values\n",
        "y = target.values\n",
        "\n",
        "kf = KFold(n_splits = k_folds)\n",
        "kf.get_n_splits(X)"
      ]
    },
    {
      "cell_type": "code",
      "execution_count": 8,
      "metadata": {
        "colab": {
          "base_uri": "https://localhost:8080/"
        },
        "id": "LgNhLUBOjlkT",
        "outputId": "cb405239-7fd0-48bb-f4dd-53e2cdf2fd20"
      },
      "outputs": [
        {
          "name": "stderr",
          "output_type": "stream",
          "text": [
            "c:\\Users\\josia\\AppData\\Local\\Programs\\Python\\Python312\\Lib\\site-packages\\sklearn\\metrics\\_classification.py:1509: UndefinedMetricWarning: Precision is ill-defined and being set to 0.0 in labels with no predicted samples. Use `zero_division` parameter to control this behavior.\n",
            "  _warn_prf(average, modifier, f\"{metric.capitalize()} is\", len(result))\n",
            "c:\\Users\\josia\\AppData\\Local\\Programs\\Python\\Python312\\Lib\\site-packages\\sklearn\\metrics\\_classification.py:1509: UndefinedMetricWarning: Precision is ill-defined and being set to 0.0 in labels with no predicted samples. Use `zero_division` parameter to control this behavior.\n",
            "  _warn_prf(average, modifier, f\"{metric.capitalize()} is\", len(result))\n",
            "c:\\Users\\josia\\AppData\\Local\\Programs\\Python\\Python312\\Lib\\site-packages\\sklearn\\metrics\\_classification.py:1509: UndefinedMetricWarning: Precision is ill-defined and being set to 0.0 in labels with no predicted samples. Use `zero_division` parameter to control this behavior.\n",
            "  _warn_prf(average, modifier, f\"{metric.capitalize()} is\", len(result))\n",
            "c:\\Users\\josia\\AppData\\Local\\Programs\\Python\\Python312\\Lib\\site-packages\\sklearn\\metrics\\_classification.py:1509: UndefinedMetricWarning: Precision is ill-defined and being set to 0.0 in labels with no predicted samples. Use `zero_division` parameter to control this behavior.\n",
            "  _warn_prf(average, modifier, f\"{metric.capitalize()} is\", len(result))\n",
            "c:\\Users\\josia\\AppData\\Local\\Programs\\Python\\Python312\\Lib\\site-packages\\sklearn\\metrics\\_classification.py:1509: UndefinedMetricWarning: Precision is ill-defined and being set to 0.0 in labels with no predicted samples. Use `zero_division` parameter to control this behavior.\n",
            "  _warn_prf(average, modifier, f\"{metric.capitalize()} is\", len(result))\n",
            "c:\\Users\\josia\\AppData\\Local\\Programs\\Python\\Python312\\Lib\\site-packages\\sklearn\\metrics\\_classification.py:1509: UndefinedMetricWarning: Precision is ill-defined and being set to 0.0 in labels with no predicted samples. Use `zero_division` parameter to control this behavior.\n",
            "  _warn_prf(average, modifier, f\"{metric.capitalize()} is\", len(result))\n",
            "c:\\Users\\josia\\AppData\\Local\\Programs\\Python\\Python312\\Lib\\site-packages\\sklearn\\metrics\\_classification.py:1509: UndefinedMetricWarning: Precision is ill-defined and being set to 0.0 in labels with no predicted samples. Use `zero_division` parameter to control this behavior.\n",
            "  _warn_prf(average, modifier, f\"{metric.capitalize()} is\", len(result))\n",
            "c:\\Users\\josia\\AppData\\Local\\Programs\\Python\\Python312\\Lib\\site-packages\\sklearn\\metrics\\_classification.py:1509: UndefinedMetricWarning: Precision is ill-defined and being set to 0.0 in labels with no predicted samples. Use `zero_division` parameter to control this behavior.\n",
            "  _warn_prf(average, modifier, f\"{metric.capitalize()} is\", len(result))\n",
            "c:\\Users\\josia\\AppData\\Local\\Programs\\Python\\Python312\\Lib\\site-packages\\sklearn\\metrics\\_classification.py:1509: UndefinedMetricWarning: Precision is ill-defined and being set to 0.0 in labels with no predicted samples. Use `zero_division` parameter to control this behavior.\n",
            "  _warn_prf(average, modifier, f\"{metric.capitalize()} is\", len(result))\n",
            "c:\\Users\\josia\\AppData\\Local\\Programs\\Python\\Python312\\Lib\\site-packages\\sklearn\\metrics\\_classification.py:1509: UndefinedMetricWarning: Precision is ill-defined and being set to 0.0 in labels with no predicted samples. Use `zero_division` parameter to control this behavior.\n",
            "  _warn_prf(average, modifier, f\"{metric.capitalize()} is\", len(result))\n",
            "c:\\Users\\josia\\AppData\\Local\\Programs\\Python\\Python312\\Lib\\site-packages\\sklearn\\metrics\\_classification.py:1509: UndefinedMetricWarning: Precision is ill-defined and being set to 0.0 in labels with no predicted samples. Use `zero_division` parameter to control this behavior.\n",
            "  _warn_prf(average, modifier, f\"{metric.capitalize()} is\", len(result))\n",
            "c:\\Users\\josia\\AppData\\Local\\Programs\\Python\\Python312\\Lib\\site-packages\\sklearn\\metrics\\_classification.py:1509: UndefinedMetricWarning: Precision is ill-defined and being set to 0.0 in labels with no predicted samples. Use `zero_division` parameter to control this behavior.\n",
            "  _warn_prf(average, modifier, f\"{metric.capitalize()} is\", len(result))\n"
          ]
        },
        {
          "name": "stdout",
          "output_type": "stream",
          "text": [
            "Confusion matrix:\n",
            "[[4861.    0.]\n",
            " [ 249.    0.]]\n",
            "\n",
            "Classification Reports:\n",
            "Classification Report for fold 1 :\n",
            "              precision    recall  f1-score   support\n",
            "\n",
            "           0       0.95      1.00      0.97       969\n",
            "           1       0.00      0.00      0.00        53\n",
            "\n",
            "    accuracy                           0.95      1022\n",
            "   macro avg       0.47      0.50      0.49      1022\n",
            "weighted avg       0.90      0.95      0.92      1022\n",
            "\n",
            "Classification Report for fold 2 :\n",
            "              precision    recall  f1-score   support\n",
            "\n",
            "           0       0.96      1.00      0.98       980\n",
            "           1       0.00      0.00      0.00        42\n",
            "\n",
            "    accuracy                           0.96      1022\n",
            "   macro avg       0.48      0.50      0.49      1022\n",
            "weighted avg       0.92      0.96      0.94      1022\n",
            "\n",
            "Classification Report for fold 3 :\n",
            "              precision    recall  f1-score   support\n",
            "\n",
            "           0       0.95      1.00      0.97       966\n",
            "           1       0.00      0.00      0.00        56\n",
            "\n",
            "    accuracy                           0.95      1022\n",
            "   macro avg       0.47      0.50      0.49      1022\n",
            "weighted avg       0.89      0.95      0.92      1022\n",
            "\n",
            "Classification Report for fold 4 :\n",
            "              precision    recall  f1-score   support\n",
            "\n",
            "           0       0.96      1.00      0.98       983\n",
            "           1       0.00      0.00      0.00        39\n",
            "\n",
            "    accuracy                           0.96      1022\n",
            "   macro avg       0.48      0.50      0.49      1022\n",
            "weighted avg       0.93      0.96      0.94      1022\n",
            "\n",
            "Classification Report for fold 5 :\n",
            "              precision    recall  f1-score   support\n",
            "\n",
            "           0       0.94      1.00      0.97       963\n",
            "           1       0.00      0.00      0.00        59\n",
            "\n",
            "    accuracy                           0.94      1022\n",
            "   macro avg       0.47      0.50      0.49      1022\n",
            "weighted avg       0.89      0.94      0.91      1022\n",
            "\n",
            "accuracy of each fold - [0.9481409001956947, 0.958904109589041, 0.9452054794520548, 0.961839530332681, 0.9422700587084148]\n",
            "Avg accuracy : 0.9512720156555773\n",
            "Avg F1 : 0.0\n",
            "Weighted incorrect classification metric: 0.487279843444227\n"
          ]
        },
        {
          "name": "stderr",
          "output_type": "stream",
          "text": [
            "c:\\Users\\josia\\AppData\\Local\\Programs\\Python\\Python312\\Lib\\site-packages\\sklearn\\metrics\\_classification.py:1509: UndefinedMetricWarning: Precision is ill-defined and being set to 0.0 in labels with no predicted samples. Use `zero_division` parameter to control this behavior.\n",
            "  _warn_prf(average, modifier, f\"{metric.capitalize()} is\", len(result))\n",
            "c:\\Users\\josia\\AppData\\Local\\Programs\\Python\\Python312\\Lib\\site-packages\\sklearn\\metrics\\_classification.py:1509: UndefinedMetricWarning: Precision is ill-defined and being set to 0.0 in labels with no predicted samples. Use `zero_division` parameter to control this behavior.\n",
            "  _warn_prf(average, modifier, f\"{metric.capitalize()} is\", len(result))\n",
            "c:\\Users\\josia\\AppData\\Local\\Programs\\Python\\Python312\\Lib\\site-packages\\sklearn\\metrics\\_classification.py:1509: UndefinedMetricWarning: Precision is ill-defined and being set to 0.0 in labels with no predicted samples. Use `zero_division` parameter to control this behavior.\n",
            "  _warn_prf(average, modifier, f\"{metric.capitalize()} is\", len(result))\n"
          ]
        }
      ],
      "source": [
        "clf = svm.SVC(kernel = 'linear')\n",
        "\n",
        "cm = np.zeros((2, 2))\n",
        "acc_score = []\n",
        "f1_score_array = []\n",
        "classification_reports = []\n",
        "\n",
        "for fold_idx, (train_index, test_index) in enumerate(kf.split(X)):\n",
        "    X_train, X_test = X[train_index], X[test_index]\n",
        "    y_train, y_test = y[train_index], y[test_index]\n",
        "\n",
        "    clf.fit(X_train, y_train)\n",
        "\n",
        "    pred_values = clf.predict(X_test)\n",
        "\n",
        "    cm += confusion_matrix(y_test, pred_values)\n",
        "\n",
        "    report = classification_report(y_test, pred_values)\n",
        "\n",
        "    classification_reports.append(report)\n",
        "\n",
        "    acc = accuracy_score(pred_values , y_test)\n",
        "    acc_score.append(acc)\n",
        "\n",
        "    f1 = f1_score(pred_values,  y_test)\n",
        "    f1_score_array.append(f1)\n",
        "\n",
        "avg_acc_score = np.mean(acc_score)\n",
        "\n",
        "print('Confusion matrix:')\n",
        "print(cm)\n",
        "\n",
        "print('\\nClassification Reports:')\n",
        "for fold_idx, report in enumerate(classification_reports):\n",
        "    print('Classification Report for fold', fold_idx + 1, ':')\n",
        "    print(report)\n",
        "\n",
        "avg_acc_score = sum(acc_score)/5\n",
        "\n",
        "print('accuracy of each fold - {}'.format(acc_score))\n",
        "print('Avg accuracy : {}'.format(avg_acc_score))\n",
        "print('Avg F1 : {}'.format(np.mean(f1_score_array)))\n",
        "tn, fp, fn, tp = cm.ravel()\n",
        "wicm = (10*fn + fp)/(tn + fp + fn + tp)\n",
        "print('Weighted incorrect classification metric: {}'.format(wicm))"
      ]
    },
    {
      "cell_type": "code",
      "execution_count": 9,
      "metadata": {
        "colab": {
          "base_uri": "https://localhost:8080/",
          "height": 449
        },
        "id": "PqCLX8_MlyJU",
        "outputId": "b2de027a-d60c-4dd5-c036-4ea47c2a84e8"
      },
      "outputs": [
        {
          "data": {
            "image/png": "[encoded data removed]",
            "text/plain": [
              "<Figure size 640x480 with 2 Axes>"
            ]
          },
          "metadata": {},
          "output_type": "display_data"
        }
      ],
      "source": [
        "cm_display = metrics.ConfusionMatrixDisplay(confusion_matrix = cm, display_labels = [False, True])\n",
        "\n",
        "cm_display.plot(values_format=\"0.0f\", cmap='Greens')\n",
        "plt.show()"
      ]
    },
    {
      "cell_type": "code",
      "execution_count": 10,
      "metadata": {
        "id": "w2hhM3s9nFBz"
      },
      "outputs": [],
      "source": [
        "smote = SMOTE(random_state = 42)"
      ]
    },
    {
      "cell_type": "code",
      "execution_count": 11,
      "metadata": {
        "id": "TKXwjhIwL8Hm"
      },
      "outputs": [],
      "source": [
        "shuffled_df = df_encoded.sample(frac=1, random_state=42)\n",
        "shuffled_df.reset_index(inplace=True)\n",
        "shuffled_df.drop(columns=['index'], inplace=True)"
      ]
    },
    {
      "cell_type": "code",
      "execution_count": 12,
      "metadata": {
        "colab": {
          "base_uri": "https://localhost:8080/"
        },
        "id": "5j3fJ9HSL-Sn",
        "outputId": "8c04343b-c698-4a06-d134-abee9d8af560"
      },
      "outputs": [
        {
          "data": {
            "text/plain": [
              "5"
            ]
          },
          "execution_count": 12,
          "metadata": {},
          "output_type": "execute_result"
        }
      ],
      "source": [
        "inputs = df_encoded.drop(\"stroke\", axis=1).copy()\n",
        "target = df_encoded[\"stroke\"]\n",
        "\n",
        "X = inputs.values\n",
        "y = target.values\n",
        "\n",
        "kf = KFold(n_splits = k_folds)\n",
        "kf.get_n_splits(X)"
      ]
    },
    {
      "cell_type": "code",
      "execution_count": 13,
      "metadata": {
        "colab": {
          "base_uri": "https://localhost:8080/"
        },
        "id": "uR_MfZqMMABq",
        "outputId": "835f7e01-eb34-4918-de1a-fa80dc0ebb6b"
      },
      "outputs": [
        {
          "name": "stdout",
          "output_type": "stream",
          "text": [
            "Confusion matrix:\n",
            "[[3548. 1313.]\n",
            " [  51.  198.]]\n",
            "\n",
            "Classification Reports:\n",
            "Classification Report for fold 1 :\n",
            "              precision    recall  f1-score   support\n",
            "\n",
            "           0       0.99      0.74      0.85       969\n",
            "           1       0.15      0.85      0.26        53\n",
            "\n",
            "    accuracy                           0.74      1022\n",
            "   macro avg       0.57      0.79      0.55      1022\n",
            "weighted avg       0.95      0.74      0.82      1022\n",
            "\n",
            "Classification Report for fold 2 :\n",
            "              precision    recall  f1-score   support\n",
            "\n",
            "           0       0.99      0.71      0.83       980\n",
            "           1       0.11      0.81      0.19        42\n",
            "\n",
            "    accuracy                           0.72      1022\n",
            "   macro avg       0.55      0.76      0.51      1022\n",
            "weighted avg       0.95      0.72      0.80      1022\n",
            "\n",
            "Classification Report for fold 3 :\n",
            "              precision    recall  f1-score   support\n",
            "\n",
            "           0       0.98      0.76      0.86       966\n",
            "           1       0.16      0.77      0.26        56\n",
            "\n",
            "    accuracy                           0.76      1022\n",
            "   macro avg       0.57      0.76      0.56      1022\n",
            "weighted avg       0.94      0.76      0.82      1022\n",
            "\n",
            "Classification Report for fold 4 :\n",
            "              precision    recall  f1-score   support\n",
            "\n",
            "           0       0.99      0.70      0.82       983\n",
            "           1       0.10      0.82      0.17        39\n",
            "\n",
            "    accuracy                           0.70      1022\n",
            "   macro avg       0.54      0.76      0.50      1022\n",
            "weighted avg       0.96      0.70      0.80      1022\n",
            "\n",
            "Classification Report for fold 5 :\n",
            "              precision    recall  f1-score   support\n",
            "\n",
            "           0       0.98      0.74      0.84       963\n",
            "           1       0.15      0.75      0.25        59\n",
            "\n",
            "    accuracy                           0.74      1022\n",
            "   macro avg       0.56      0.74      0.55      1022\n",
            "weighted avg       0.93      0.74      0.81      1022\n",
            "\n",
            "accuracy of each fold - [0.7446183953033269, 0.7162426614481409, 0.7592954990215264, 0.7045009784735812, 0.7407045009784736]\n",
            "Avg accuracy : 0.7330724070450098\n",
            "Avg F1 : 0.2259091415494947\n",
            "Weighted incorrect classification metric: 0.3567514677103718\n"
          ]
        }
      ],
      "source": [
        "cm = np.zeros((2, 2))\n",
        "acc_score = []\n",
        "f1_score_array = []\n",
        "classification_reports = []\n",
        "\n",
        "for fold_idx, (train_index, test_index) in enumerate(kf.split(X)):\n",
        "    X_train, X_test = X[train_index], X[test_index]\n",
        "    y_train, y_test = y[train_index], y[test_index]\n",
        "\n",
        "    x_train_smote, y_train_smote = smote.fit_resample(X_train, y_train)\n",
        "\n",
        "    clf.fit(x_train_smote, y_train_smote)\n",
        "\n",
        "    pred_values =clf.predict(X_test)\n",
        "\n",
        "    cm += confusion_matrix(y_test, pred_values)\n",
        "\n",
        "    report = classification_report(y_test, pred_values)\n",
        "\n",
        "    classification_reports.append(report)\n",
        "\n",
        "    acc = accuracy_score(pred_values , y_test)\n",
        "    acc_score.append(acc)\n",
        "\n",
        "    f1 = f1_score(pred_values,  y_test)\n",
        "    f1_score_array.append(f1)\n",
        "\n",
        "avg_acc_score = np.mean(acc_score)\n",
        "\n",
        "print('Confusion matrix:')\n",
        "print(cm)\n",
        "\n",
        "print('\\nClassification Reports:')\n",
        "for fold_idx, report in enumerate(classification_reports):\n",
        "    print('Classification Report for fold', fold_idx + 1, ':')\n",
        "    print(report)\n",
        "\n",
        "avg_acc_score = sum(acc_score)/5\n",
        "\n",
        "print('accuracy of each fold - {}'.format(acc_score))\n",
        "print('Avg accuracy : {}'.format(avg_acc_score))\n",
        "print('Avg F1 : {}'.format(np.mean(f1_score_array)))\n",
        "tn, fp, fn, tp = cm.ravel()\n",
        "wicm = (10*fn + fp)/(tn + fp + fn + tp)\n",
        "print('Weighted incorrect classification metric: {}'.format(wicm))"
      ]
    },
    {
      "cell_type": "code",
      "execution_count": 14,
      "metadata": {
        "colab": {
          "base_uri": "https://localhost:8080/",
          "height": 450
        },
        "id": "38o8WQckMGPn",
        "outputId": "8396534b-41f3-4d4f-f213-47f6382fbdaf"
      },
      "outputs": [
        {
          "data": {
            "image/png": "[encoded data removed]",
            "text/plain": [
              "<Figure size 640x480 with 2 Axes>"
            ]
          },
          "metadata": {},
          "output_type": "display_data"
        }
      ],
      "source": [
        "cm_display = metrics.ConfusionMatrixDisplay(confusion_matrix = cm, display_labels = [False, True])\n",
        "\n",
        "cm_display.plot(values_format=\"0.0f\", cmap='Greens')\n",
        "plt.show()"
      ]
    },
    {
      "cell_type": "markdown",
      "metadata": {},
      "source": [
        "### Under Sampling"
      ]
    },
    {
      "cell_type": "code",
      "execution_count": 15,
      "metadata": {},
      "outputs": [],
      "source": [
        "pos = df_encoded[df_encoded['stroke']==1]\n",
        "neg = df_encoded[df_encoded['stroke']==0]\n",
        "\n",
        "neg = neg.head(pos.shape[0])\n",
        "df_undersample = pd.concat([pos,neg],axis=0)\n",
        "df_undersample = shuffle(df_undersample , random_state=42)\n",
        "df_undersample.reset_index(drop=True, inplace=True)\n",
        "\n",
        "inputs = df_undersample.drop('stroke', axis=1).copy()\n",
        "target = df_undersample['stroke']"
      ]
    },
    {
      "cell_type": "code",
      "execution_count": 16,
      "metadata": {},
      "outputs": [
        {
          "data": {
            "text/plain": [
              "5"
            ]
          },
          "execution_count": 16,
          "metadata": {},
          "output_type": "execute_result"
        }
      ],
      "source": [
        "X = inputs.values\n",
        "y = target.values\n",
        "\n",
        "kf = KFold(n_splits = k_folds)\n",
        "kf.get_n_splits(X)"
      ]
    },
    {
      "cell_type": "code",
      "execution_count": 17,
      "metadata": {},
      "outputs": [
        {
          "name": "stdout",
          "output_type": "stream",
          "text": [
            "Confusion matrix:\n",
            "[[174.  75.]\n",
            " [ 48. 201.]]\n",
            "\n",
            "Classification Reports:\n",
            "Classification Report for fold 1 :\n",
            "              precision    recall  f1-score   support\n",
            "\n",
            "           0       0.80      0.71      0.75        49\n",
            "           1       0.75      0.82      0.79        51\n",
            "\n",
            "    accuracy                           0.77       100\n",
            "   macro avg       0.77      0.77      0.77       100\n",
            "weighted avg       0.77      0.77      0.77       100\n",
            "\n",
            "Classification Report for fold 2 :\n",
            "              precision    recall  f1-score   support\n",
            "\n",
            "           0       0.76      0.71      0.74        45\n",
            "           1       0.78      0.82      0.80        55\n",
            "\n",
            "    accuracy                           0.77       100\n",
            "   macro avg       0.77      0.76      0.77       100\n",
            "weighted avg       0.77      0.77      0.77       100\n",
            "\n",
            "Classification Report for fold 3 :\n",
            "              precision    recall  f1-score   support\n",
            "\n",
            "           0       0.78      0.70      0.74        57\n",
            "           1       0.65      0.74      0.70        43\n",
            "\n",
            "    accuracy                           0.72       100\n",
            "   macro avg       0.72      0.72      0.72       100\n",
            "weighted avg       0.73      0.72      0.72       100\n",
            "\n",
            "Classification Report for fold 4 :\n",
            "              precision    recall  f1-score   support\n",
            "\n",
            "           0       0.76      0.67      0.72        43\n",
            "           1       0.77      0.84      0.80        56\n",
            "\n",
            "    accuracy                           0.77        99\n",
            "   macro avg       0.77      0.76      0.76        99\n",
            "weighted avg       0.77      0.77      0.77        99\n",
            "\n",
            "Classification Report for fold 5 :\n",
            "              precision    recall  f1-score   support\n",
            "\n",
            "           0       0.81      0.69      0.75        55\n",
            "           1       0.67      0.80      0.73        44\n",
            "\n",
            "    accuracy                           0.74        99\n",
            "   macro avg       0.74      0.74      0.74        99\n",
            "weighted avg       0.75      0.74      0.74        99\n",
            "\n",
            "accuracy of each fold - [0.77, 0.77, 0.72, 0.7676767676767676, 0.7373737373737373]\n",
            "Avg accuracy : 0.753010101010101\n",
            "Avg F1 : 0.7619489099923252\n",
            "Weighted incorrect classification metric: 1.1144578313253013\n"
          ]
        }
      ],
      "source": [
        "cm = np.zeros((2, 2))\n",
        "acc_score = []\n",
        "f1_score_array = []\n",
        "classification_reports = []\n",
        "\n",
        "for fold_idx, (train_index, test_index) in enumerate(kf.split(X)):\n",
        "    X_train, X_test = X[train_index], X[test_index]\n",
        "    y_train, y_test = y[train_index], y[test_index]\n",
        "\n",
        "    x_train_smote, y_train_smote = smote.fit_resample(X_train, y_train)\n",
        "\n",
        "    clf.fit(x_train_smote, y_train_smote)\n",
        "\n",
        "    pred_values =clf.predict(X_test)\n",
        "\n",
        "    cm += confusion_matrix(y_test, pred_values)\n",
        "\n",
        "    report = classification_report(y_test, pred_values)\n",
        "\n",
        "    classification_reports.append(report)\n",
        "\n",
        "    acc = accuracy_score(pred_values , y_test)\n",
        "    acc_score.append(acc)\n",
        "\n",
        "    f1 = f1_score(pred_values,  y_test)\n",
        "    f1_score_array.append(f1)\n",
        "\n",
        "avg_acc_score = np.mean(acc_score)\n",
        "\n",
        "print('Confusion matrix:')\n",
        "print(cm)\n",
        "\n",
        "print('\\nClassification Reports:')\n",
        "for fold_idx, report in enumerate(classification_reports):\n",
        "    print('Classification Report for fold', fold_idx + 1, ':')\n",
        "    print(report)\n",
        "\n",
        "avg_acc_score = sum(acc_score)/5\n",
        "\n",
        "print('accuracy of each fold - {}'.format(acc_score))\n",
        "print('Avg accuracy : {}'.format(avg_acc_score))\n",
        "print('Avg F1 : {}'.format(np.mean(f1_score_array)))\n",
        "tn, fp, fn, tp = cm.ravel()\n",
        "wicm = (10*fn + fp)/(tn + fp + fn + tp)\n",
        "print('Weighted incorrect classification metric: {}'.format(wicm))"
      ]
    },
    {
      "cell_type": "code",
      "execution_count": 18,
      "metadata": {},
      "outputs": [
        {
          "data": {
            "image/png": "[encoded data removed]",
            "text/plain": [
              "<Figure size 640x480 with 2 Axes>"
            ]
          },
          "metadata": {},
          "output_type": "display_data"
        }
      ],
      "source": [
        "cm_display = metrics.ConfusionMatrixDisplay(confusion_matrix = cm, display_labels = [False, True])\n",
        "\n",
        "cm_display.plot(values_format=\"0.0f\", cmap='Greens')\n",
        "plt.show()"
      ]
    }
  ],
  "metadata": {
    "colab": {
      "provenance": []
    },
    "kernelspec": {
      "display_name": "Python 3",
      "name": "python3"
    },
    "language_info": {
      "codemirror_mode": {
        "name": "ipython",
        "version": 3
      },
      "file_extension": ".py",
      "mimetype": "text/x-python",
      "name": "python",
      "nbconvert_exporter": "python",
      "pygments_lexer": "ipython3",
      "version": "3.12.2"
    }
  },
  "nbformat": 4,
  "nbformat_minor": 0
}
