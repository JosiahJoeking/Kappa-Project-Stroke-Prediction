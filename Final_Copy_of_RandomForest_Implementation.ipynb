{
  "cells": [
    {
      "cell_type": "code",
      "execution_count": 1,
      "metadata": {
        "id": "h5fy1AavvVJ3"
      },
      "outputs": [],
      "source": [
        "import pandas as pd\n",
        "import numpy as np\n",
        "from pandas.api.types import is_numeric_dtype\n",
        "from sklearn.model_selection import KFold\n",
        "import matplotlib.pyplot as plt\n",
        "import seaborn as sns\n",
        "\n",
        "from sklearn import metrics\n",
        "from sklearn.ensemble import RandomForestClassifier\n",
        "from sklearn.metrics import accuracy_score, confusion_matrix, precision_score, recall_score, ConfusionMatrixDisplay\n",
        "from sklearn.model_selection import RandomizedSearchCV, train_test_split\n",
        "from scipy.stats import randint\n",
        "\n",
        "from sklearn.metrics import classification_report\n",
        "from imblearn.over_sampling import SMOTE\n",
        "from sklearn.metrics import f1_score\n",
        "from sklearn.utils import shuffle"
      ]
    },
    {
      "cell_type": "code",
      "execution_count": 2,
      "metadata": {
        "id": "aMmIB7NdPVid"
      },
      "outputs": [],
      "source": [
        "k_folds = 5"
      ]
    },
    {
      "cell_type": "markdown",
      "metadata": {
        "id": "zBb2RvIUzQty"
      },
      "source": [
        "Read in Stroke Dataset"
      ]
    },
    {
      "cell_type": "code",
      "execution_count": 3,
      "metadata": {
        "id": "LFlpENnYrpzI"
      },
      "outputs": [],
      "source": [
        "strokeDatasetURL = 'https://raw.githubusercontent.com/JosiahJoeking/Stroke-Dataset/main/healthcare-dataset-stroke-data.csv'\n",
        "df = pd.read_csv(strokeDatasetURL)"
      ]
    },
    {
      "cell_type": "markdown",
      "metadata": {
        "id": "iFUNywmv1FnU"
      },
      "source": [
        "Calculate Average of stroke"
      ]
    },
    {
      "cell_type": "code",
      "execution_count": 4,
      "metadata": {
        "id": "Dj6U3WxOzOGT"
      },
      "outputs": [],
      "source": [
        "strokeAVG = df.loc[:, 'stroke'].mean()"
      ]
    },
    {
      "cell_type": "code",
      "execution_count": 5,
      "metadata": {
        "id": "clAQ68xrwbeA"
      },
      "outputs": [],
      "source": [
        "BMI_avg = df.loc[:, 'bmi'].mean()\n",
        "df = df.fillna(value = BMI_avg)\n",
        "\n",
        "df.drop(columns=['id'], inplace=True)\n",
        "\n",
        "nan_df = df[df.isna().any(axis=1)]\n",
        "no_nan_df = df.dropna()"
      ]
    },
    {
      "cell_type": "code",
      "execution_count": 6,
      "metadata": {
        "colab": {
          "base_uri": "https://localhost:8080/",
          "height": 424
        },
        "id": "wjlGCq7Dnw5n",
        "outputId": "afdacb0b-dbe7-4d50-8255-701bb908afa9"
      },
      "outputs": [
        {
          "data": {
            "text/html": [
              "<div>\n",
              "<style scoped>\n",
              "    .dataframe tbody tr th:only-of-type {\n",
              "        vertical-align: middle;\n",
              "    }\n",
              "\n",
              "    .dataframe tbody tr th {\n",
              "        vertical-align: top;\n",
              "    }\n",
              "\n",
              "    .dataframe thead th {\n",
              "        text-align: right;\n",
              "    }\n",
              "</style>\n",
              "<table border=\"1\" class=\"dataframe\">\n",
              "  <thead>\n",
              "    <tr style=\"text-align: right;\">\n",
              "      <th></th>\n",
              "      <th>gender</th>\n",
              "      <th>age</th>\n",
              "      <th>hypertension</th>\n",
              "      <th>heart_disease</th>\n",
              "      <th>ever_married</th>\n",
              "      <th>work_type</th>\n",
              "      <th>Residence_type</th>\n",
              "      <th>avg_glucose_level</th>\n",
              "      <th>bmi</th>\n",
              "      <th>smoking_status</th>\n",
              "      <th>stroke</th>\n",
              "    </tr>\n",
              "  </thead>\n",
              "  <tbody>\n",
              "    <tr>\n",
              "      <th>0</th>\n",
              "      <td>1</td>\n",
              "      <td>17.0</td>\n",
              "      <td>0</td>\n",
              "      <td>0</td>\n",
              "      <td>0</td>\n",
              "      <td>0</td>\n",
              "      <td>0</td>\n",
              "      <td>92.97</td>\n",
              "      <td>28.893237</td>\n",
              "      <td>2</td>\n",
              "      <td>0</td>\n",
              "    </tr>\n",
              "    <tr>\n",
              "      <th>1</th>\n",
              "      <td>1</td>\n",
              "      <td>13.0</td>\n",
              "      <td>0</td>\n",
              "      <td>0</td>\n",
              "      <td>0</td>\n",
              "      <td>3</td>\n",
              "      <td>1</td>\n",
              "      <td>85.81</td>\n",
              "      <td>18.600000</td>\n",
              "      <td>3</td>\n",
              "      <td>0</td>\n",
              "    </tr>\n",
              "    <tr>\n",
              "      <th>2</th>\n",
              "      <td>0</td>\n",
              "      <td>55.0</td>\n",
              "      <td>0</td>\n",
              "      <td>0</td>\n",
              "      <td>1</td>\n",
              "      <td>0</td>\n",
              "      <td>0</td>\n",
              "      <td>89.17</td>\n",
              "      <td>31.500000</td>\n",
              "      <td>0</td>\n",
              "      <td>0</td>\n",
              "    </tr>\n",
              "    <tr>\n",
              "      <th>3</th>\n",
              "      <td>1</td>\n",
              "      <td>42.0</td>\n",
              "      <td>0</td>\n",
              "      <td>0</td>\n",
              "      <td>0</td>\n",
              "      <td>0</td>\n",
              "      <td>0</td>\n",
              "      <td>98.53</td>\n",
              "      <td>18.500000</td>\n",
              "      <td>0</td>\n",
              "      <td>0</td>\n",
              "    </tr>\n",
              "    <tr>\n",
              "      <th>4</th>\n",
              "      <td>1</td>\n",
              "      <td>31.0</td>\n",
              "      <td>0</td>\n",
              "      <td>0</td>\n",
              "      <td>0</td>\n",
              "      <td>0</td>\n",
              "      <td>0</td>\n",
              "      <td>108.89</td>\n",
              "      <td>52.300000</td>\n",
              "      <td>3</td>\n",
              "      <td>0</td>\n",
              "    </tr>\n",
              "    <tr>\n",
              "      <th>...</th>\n",
              "      <td>...</td>\n",
              "      <td>...</td>\n",
              "      <td>...</td>\n",
              "      <td>...</td>\n",
              "      <td>...</td>\n",
              "      <td>...</td>\n",
              "      <td>...</td>\n",
              "      <td>...</td>\n",
              "      <td>...</td>\n",
              "      <td>...</td>\n",
              "      <td>...</td>\n",
              "    </tr>\n",
              "    <tr>\n",
              "      <th>5105</th>\n",
              "      <td>1</td>\n",
              "      <td>57.0</td>\n",
              "      <td>1</td>\n",
              "      <td>0</td>\n",
              "      <td>1</td>\n",
              "      <td>0</td>\n",
              "      <td>1</td>\n",
              "      <td>129.54</td>\n",
              "      <td>60.900000</td>\n",
              "      <td>1</td>\n",
              "      <td>0</td>\n",
              "    </tr>\n",
              "    <tr>\n",
              "      <th>5106</th>\n",
              "      <td>1</td>\n",
              "      <td>19.0</td>\n",
              "      <td>0</td>\n",
              "      <td>0</td>\n",
              "      <td>0</td>\n",
              "      <td>0</td>\n",
              "      <td>0</td>\n",
              "      <td>90.57</td>\n",
              "      <td>24.200000</td>\n",
              "      <td>3</td>\n",
              "      <td>0</td>\n",
              "    </tr>\n",
              "    <tr>\n",
              "      <th>5107</th>\n",
              "      <td>1</td>\n",
              "      <td>45.0</td>\n",
              "      <td>0</td>\n",
              "      <td>0</td>\n",
              "      <td>1</td>\n",
              "      <td>0</td>\n",
              "      <td>0</td>\n",
              "      <td>172.33</td>\n",
              "      <td>45.300000</td>\n",
              "      <td>2</td>\n",
              "      <td>0</td>\n",
              "    </tr>\n",
              "    <tr>\n",
              "      <th>5108</th>\n",
              "      <td>1</td>\n",
              "      <td>53.0</td>\n",
              "      <td>1</td>\n",
              "      <td>0</td>\n",
              "      <td>1</td>\n",
              "      <td>0</td>\n",
              "      <td>0</td>\n",
              "      <td>62.55</td>\n",
              "      <td>30.300000</td>\n",
              "      <td>3</td>\n",
              "      <td>1</td>\n",
              "    </tr>\n",
              "    <tr>\n",
              "      <th>5109</th>\n",
              "      <td>1</td>\n",
              "      <td>2.0</td>\n",
              "      <td>0</td>\n",
              "      <td>0</td>\n",
              "      <td>0</td>\n",
              "      <td>3</td>\n",
              "      <td>0</td>\n",
              "      <td>102.92</td>\n",
              "      <td>17.600000</td>\n",
              "      <td>3</td>\n",
              "      <td>0</td>\n",
              "    </tr>\n",
              "  </tbody>\n",
              "</table>\n",
              "<p>5110 rows × 11 columns</p>\n",
              "</div>"
            ],
            "text/plain": [
              "      gender   age  hypertension  heart_disease  ever_married  work_type  \\\n",
              "0          1  17.0             0              0             0          0   \n",
              "1          1  13.0             0              0             0          3   \n",
              "2          0  55.0             0              0             1          0   \n",
              "3          1  42.0             0              0             0          0   \n",
              "4          1  31.0             0              0             0          0   \n",
              "...      ...   ...           ...            ...           ...        ...   \n",
              "5105       1  57.0             1              0             1          0   \n",
              "5106       1  19.0             0              0             0          0   \n",
              "5107       1  45.0             0              0             1          0   \n",
              "5108       1  53.0             1              0             1          0   \n",
              "5109       1   2.0             0              0             0          3   \n",
              "\n",
              "      Residence_type  avg_glucose_level        bmi  smoking_status  stroke  \n",
              "0                  0              92.97  28.893237               2       0  \n",
              "1                  1              85.81  18.600000               3       0  \n",
              "2                  0              89.17  31.500000               0       0  \n",
              "3                  0              98.53  18.500000               0       0  \n",
              "4                  0             108.89  52.300000               3       0  \n",
              "...              ...                ...        ...             ...     ...  \n",
              "5105               1             129.54  60.900000               1       0  \n",
              "5106               0              90.57  24.200000               3       0  \n",
              "5107               0             172.33  45.300000               2       0  \n",
              "5108               0              62.55  30.300000               3       1  \n",
              "5109               0             102.92  17.600000               3       0  \n",
              "\n",
              "[5110 rows x 11 columns]"
            ]
          },
          "execution_count": 6,
          "metadata": {},
          "output_type": "execute_result"
        }
      ],
      "source": [
        "df['gender'] = df['gender'].map({'Male': 0, 'Female': 1, 'Other': 2})\n",
        "df['ever_married'] = df['ever_married'].map({'Yes': 1, 'No': 0})\n",
        "df['work_type'] = df['work_type'].map({'Private': 0, 'Self-employed': 1, 'Govt_job': 2, 'children': 3, 'Never_worked': 4})\n",
        "df['Residence_type'] = df['Residence_type'].map({'Urban': 0, 'Rural': 1})\n",
        "df['smoking_status'] = df['smoking_status'].map({'never smoked': 0, 'smokes': 1, 'formerly smoked': 2, 'Unknown': 3})\n",
        "df"
      ]
    },
    {
      "cell_type": "markdown",
      "metadata": {},
      "source": [
        "### Normal"
      ]
    },
    {
      "cell_type": "code",
      "execution_count": 7,
      "metadata": {
        "colab": {
          "base_uri": "https://localhost:8080/"
        },
        "id": "hk5lloAbFCx_",
        "outputId": "147929de-708a-409b-b85b-7dcaed277003"
      },
      "outputs": [
        {
          "data": {
            "text/plain": [
              "5"
            ]
          },
          "execution_count": 7,
          "metadata": {},
          "output_type": "execute_result"
        }
      ],
      "source": [
        "# X = df_encoded.iloc[:,:-1]\n",
        "# y = df_encoded.iloc[:,-1]\n",
        "\n",
        "inputs = df.drop(\"stroke\", axis=1).copy()\n",
        "target = df[\"stroke\"]\n",
        "\n",
        "X = inputs.values\n",
        "y = target.values\n",
        "\n",
        "kf = KFold(n_splits = k_folds)\n",
        "kf.get_n_splits(X)"
      ]
    },
    {
      "cell_type": "code",
      "execution_count": 8,
      "metadata": {
        "id": "Y7wdJV2QLKr_"
      },
      "outputs": [],
      "source": [
        "rf = RandomForestClassifier(random_state=42)"
      ]
    },
    {
      "cell_type": "code",
      "execution_count": 9,
      "metadata": {
        "colab": {
          "base_uri": "https://localhost:8080/"
        },
        "id": "GeCk5UuaLWsu",
        "outputId": "0c419c9e-5b01-4a26-d7a7-f58b84eceb91"
      },
      "outputs": [
        {
          "name": "stderr",
          "output_type": "stream",
          "text": [
            "c:\\Users\\josia\\AppData\\Local\\Programs\\Python\\Python312\\Lib\\site-packages\\sklearn\\metrics\\_classification.py:1509: UndefinedMetricWarning: Precision is ill-defined and being set to 0.0 in labels with no predicted samples. Use `zero_division` parameter to control this behavior.\n",
            "  _warn_prf(average, modifier, f\"{metric.capitalize()} is\", len(result))\n",
            "c:\\Users\\josia\\AppData\\Local\\Programs\\Python\\Python312\\Lib\\site-packages\\sklearn\\metrics\\_classification.py:1509: UndefinedMetricWarning: Precision is ill-defined and being set to 0.0 in labels with no predicted samples. Use `zero_division` parameter to control this behavior.\n",
            "  _warn_prf(average, modifier, f\"{metric.capitalize()} is\", len(result))\n",
            "c:\\Users\\josia\\AppData\\Local\\Programs\\Python\\Python312\\Lib\\site-packages\\sklearn\\metrics\\_classification.py:1509: UndefinedMetricWarning: Precision is ill-defined and being set to 0.0 in labels with no predicted samples. Use `zero_division` parameter to control this behavior.\n",
            "  _warn_prf(average, modifier, f\"{metric.capitalize()} is\", len(result))\n"
          ]
        },
        {
          "name": "stdout",
          "output_type": "stream",
          "text": [
            "Confusion matrix:\n",
            "[[4.854e+03 7.000e+00]\n",
            " [2.460e+02 3.000e+00]]\n",
            "\n",
            "Classification Reports:\n",
            "Classification Report for fold 1 :\n",
            "              precision    recall  f1-score   support\n",
            "\n",
            "           0       0.95      1.00      0.97       969\n",
            "           1       0.25      0.02      0.04        53\n",
            "\n",
            "    accuracy                           0.95      1022\n",
            "   macro avg       0.60      0.51      0.50      1022\n",
            "weighted avg       0.91      0.95      0.92      1022\n",
            "\n",
            "Classification Report for fold 2 :\n",
            "              precision    recall  f1-score   support\n",
            "\n",
            "           0       0.96      1.00      0.98       980\n",
            "           1       0.50      0.02      0.05        42\n",
            "\n",
            "    accuracy                           0.96      1022\n",
            "   macro avg       0.73      0.51      0.51      1022\n",
            "weighted avg       0.94      0.96      0.94      1022\n",
            "\n",
            "Classification Report for fold 3 :\n",
            "              precision    recall  f1-score   support\n",
            "\n",
            "           0       0.95      1.00      0.97       966\n",
            "           1       0.00      0.00      0.00        56\n",
            "\n",
            "    accuracy                           0.95      1022\n",
            "   macro avg       0.47      0.50      0.49      1022\n",
            "weighted avg       0.89      0.95      0.92      1022\n",
            "\n",
            "Classification Report for fold 4 :\n",
            "              precision    recall  f1-score   support\n",
            "\n",
            "           0       0.96      1.00      0.98       983\n",
            "           1       0.33      0.03      0.05        39\n",
            "\n",
            "    accuracy                           0.96      1022\n",
            "   macro avg       0.65      0.51      0.51      1022\n",
            "weighted avg       0.94      0.96      0.94      1022\n",
            "\n",
            "Classification Report for fold 5 :\n",
            "              precision    recall  f1-score   support\n",
            "\n",
            "           0       0.94      1.00      0.97       963\n",
            "           1       0.00      0.00      0.00        59\n",
            "\n",
            "    accuracy                           0.94      1022\n",
            "   macro avg       0.47      0.50      0.48      1022\n",
            "weighted avg       0.89      0.94      0.91      1022\n",
            "\n",
            "accuracy of each fold - [0.9461839530332681, 0.958904109589041, 0.9452054794520548, 0.9608610567514677, 0.9412915851272016]\n",
            "Avg accuracy : 0.9504892367906066\n",
            "Avg F1 : 0.02563226247436774\n",
            "Weighted incorrect classification metric: 0.4827788649706458\n"
          ]
        }
      ],
      "source": [
        "acc_score = []\n",
        "f1_score_array = []\n",
        "\n",
        "cm = np.zeros((2, 2))\n",
        "\n",
        "\n",
        "classification_reports = []\n",
        "\n",
        "for fold_idx, (train_index, test_index) in enumerate(kf.split(X)):\n",
        "    X_train, X_test = X[train_index], X[test_index]\n",
        "    y_train, y_test = y[train_index], y[test_index]\n",
        "\n",
        "    rf.fit(X_train, y_train)\n",
        "\n",
        "    pred_values = rf.predict(X_test)\n",
        "\n",
        "    cm += confusion_matrix(y_test, pred_values)\n",
        "\n",
        "    report = classification_report(y_test, pred_values)\n",
        "\n",
        "    classification_reports.append(report)\n",
        "\n",
        "    acc = accuracy_score(pred_values , y_test)\n",
        "    acc_score.append(acc)\n",
        "\n",
        "    f1 = f1_score(pred_values,  y_test)\n",
        "    f1_score_array.append(f1)\n",
        "\n",
        "avg_acc_score = np.mean(acc_score)\n",
        "\n",
        "print('Confusion matrix:')\n",
        "print(cm)\n",
        "\n",
        "print('\\nClassification Reports:')\n",
        "for fold_idx, report in enumerate(classification_reports):\n",
        "    print('Classification Report for fold', fold_idx + 1, ':')\n",
        "    print(report)\n",
        "\n",
        "avg_acc_score = sum(acc_score)/5\n",
        "\n",
        "print('accuracy of each fold - {}'.format(acc_score))\n",
        "print('Avg accuracy : {}'.format(avg_acc_score))\n",
        "print('Avg F1 : {}'.format(np.mean(f1_score_array)))\n",
        "tn, fp, fn, tp = cm.ravel()\n",
        "wicm = (10*fn + fp)/(tn + fp + fn + tp)\n",
        "print('Weighted incorrect classification metric: {}'.format(wicm))"
      ]
    },
    {
      "cell_type": "code",
      "execution_count": 10,
      "metadata": {
        "colab": {
          "base_uri": "https://localhost:8080/",
          "height": 449
        },
        "id": "kWVYhd26lICo",
        "outputId": "7ac82144-ceb3-4182-88b5-490c78891d4d"
      },
      "outputs": [
        {
          "data": {
            "image/png": "[encoded data removed]",
            "text/plain": [
              "<Figure size 640x480 with 2 Axes>"
            ]
          },
          "metadata": {},
          "output_type": "display_data"
        }
      ],
      "source": [
        "cm_display = metrics.ConfusionMatrixDisplay(confusion_matrix = cm, display_labels = [False, True])\n",
        "\n",
        "cm_display.plot(values_format=\"0.0f\", cmap='Greens')\n",
        "plt.show()"
      ]
    },
    {
      "cell_type": "markdown",
      "metadata": {},
      "source": [
        "### Over Sampling"
      ]
    },
    {
      "cell_type": "code",
      "execution_count": 11,
      "metadata": {
        "id": "vWhYL5xojTe-"
      },
      "outputs": [],
      "source": [
        "smote = SMOTE(random_state = 42)"
      ]
    },
    {
      "cell_type": "code",
      "execution_count": 12,
      "metadata": {
        "id": "1IJMW8r7_1qs"
      },
      "outputs": [],
      "source": [
        "shuffled_df = df.sample(frac=1, random_state=42)\n",
        "shuffled_df.reset_index(inplace=True)\n",
        "shuffled_df.drop(columns=['index'], inplace=True)"
      ]
    },
    {
      "cell_type": "code",
      "execution_count": 13,
      "metadata": {
        "colab": {
          "base_uri": "https://localhost:8080/"
        },
        "id": "higeddQNAIFf",
        "outputId": "88ffe913-0319-4dbb-e64e-90e0080cd301"
      },
      "outputs": [
        {
          "data": {
            "text/plain": [
              "5"
            ]
          },
          "execution_count": 13,
          "metadata": {},
          "output_type": "execute_result"
        }
      ],
      "source": [
        "inputs = shuffled_df.drop(\"stroke\", axis=1).copy()\n",
        "target = shuffled_df[\"stroke\"]\n",
        "\n",
        "X = inputs.values\n",
        "y = target.values\n",
        "\n",
        "kf = KFold(n_splits = k_folds)\n",
        "kf.get_n_splits(X)"
      ]
    },
    {
      "cell_type": "code",
      "execution_count": 14,
      "metadata": {
        "colab": {
          "base_uri": "https://localhost:8080/"
        },
        "id": "ErRdrS7fAJ9R",
        "outputId": "ba729240-00dc-4a2f-8d60-77f63210ff0d"
      },
      "outputs": [
        {
          "name": "stdout",
          "output_type": "stream",
          "text": [
            "Confusion matrix:\n",
            "[[4809.   52.]\n",
            " [ 244.    5.]]\n",
            "\n",
            "Classification Reports:\n",
            "Classification Report for fold 1 :\n",
            "              precision    recall  f1-score   support\n",
            "\n",
            "           0       0.95      0.99      0.97       971\n",
            "           1       0.00      0.00      0.00        51\n",
            "\n",
            "    accuracy                           0.94      1022\n",
            "   macro avg       0.47      0.50      0.49      1022\n",
            "weighted avg       0.90      0.94      0.92      1022\n",
            "\n",
            "Classification Report for fold 2 :\n",
            "              precision    recall  f1-score   support\n",
            "\n",
            "           0       0.96      0.98      0.97       978\n",
            "           1       0.05      0.02      0.03        44\n",
            "\n",
            "    accuracy                           0.94      1022\n",
            "   macro avg       0.50      0.50      0.50      1022\n",
            "weighted avg       0.92      0.94      0.93      1022\n",
            "\n",
            "Classification Report for fold 3 :\n",
            "              precision    recall  f1-score   support\n",
            "\n",
            "           0       0.95      0.99      0.97       973\n",
            "           1       0.09      0.02      0.03        49\n",
            "\n",
            "    accuracy                           0.94      1022\n",
            "   macro avg       0.52      0.51      0.50      1022\n",
            "weighted avg       0.91      0.94      0.93      1022\n",
            "\n",
            "Classification Report for fold 4 :\n",
            "              precision    recall  f1-score   support\n",
            "\n",
            "           0       0.94      0.99      0.96       964\n",
            "           1       0.13      0.03      0.05        58\n",
            "\n",
            "    accuracy                           0.93      1022\n",
            "   macro avg       0.54      0.51      0.51      1022\n",
            "weighted avg       0.90      0.93      0.91      1022\n",
            "\n",
            "Classification Report for fold 5 :\n",
            "              precision    recall  f1-score   support\n",
            "\n",
            "           0       0.95      1.00      0.98       975\n",
            "           1       0.25      0.02      0.04        47\n",
            "\n",
            "    accuracy                           0.95      1022\n",
            "   macro avg       0.60      0.51      0.51      1022\n",
            "weighted avg       0.92      0.95      0.93      1022\n",
            "\n",
            "accuracy of each fold - [0.9422700587084148, 0.9403131115459883, 0.9432485322896281, 0.9324853228962818, 0.952054794520548]\n",
            "Avg accuracy : 0.9420743639921723\n",
            "Avg F1 : 0.031817914380364014\n",
            "Weighted incorrect classification metric: 0.4876712328767123\n"
          ]
        }
      ],
      "source": [
        "acc_score = []\n",
        "f1_score_array = []\n",
        "\n",
        "cm = np.zeros((2, 2))\n",
        "\n",
        "\n",
        "classification_reports = []\n",
        "\n",
        "for fold_idx, (train_index, test_index) in enumerate(kf.split(X)):\n",
        "    X_train, X_test = X[train_index], X[test_index]\n",
        "    y_train, y_test = y[train_index], y[test_index]\n",
        "\n",
        "    x_train_smote, y_train_smote = smote.fit_resample(X_train, y_train)\n",
        "\n",
        "    rf.fit(x_train_smote, y_train_smote)\n",
        "\n",
        "    pred_values =rf.predict(X_test)\n",
        "\n",
        "    cm += confusion_matrix(y_test, pred_values)\n",
        "\n",
        "    report = classification_report(y_test, pred_values)\n",
        "\n",
        "    classification_reports.append(report)\n",
        "\n",
        "    acc = accuracy_score(pred_values , y_test)\n",
        "    acc_score.append(acc)\n",
        "\n",
        "    f1 = f1_score(pred_values,  y_test)\n",
        "    f1_score_array.append(f1)\n",
        "\n",
        "avg_acc_score = np.mean(acc_score)\n",
        "\n",
        "print('Confusion matrix:')\n",
        "print(cm)\n",
        "\n",
        "print('\\nClassification Reports:')\n",
        "for fold_idx, report in enumerate(classification_reports):\n",
        "    print('Classification Report for fold', fold_idx + 1, ':')\n",
        "    print(report)\n",
        "\n",
        "avg_acc_score = sum(acc_score)/5\n",
        "\n",
        "print('accuracy of each fold - {}'.format(acc_score))\n",
        "print('Avg accuracy : {}'.format(avg_acc_score))\n",
        "print('Avg F1 : {}'.format(np.mean(f1_score_array)))\n",
        "tn, fp, fn, tp = cm.ravel()\n",
        "wicm = (10*fn + fp)/(tn + fp + fn + tp)\n",
        "print('Weighted incorrect classification metric: {}'.format(wicm))"
      ]
    },
    {
      "cell_type": "code",
      "execution_count": 15,
      "metadata": {
        "colab": {
          "base_uri": "https://localhost:8080/",
          "height": 449
        },
        "id": "mjbWhRr9Blmi",
        "outputId": "2d0189c1-a335-4e23-c305-167fa68231d8"
      },
      "outputs": [
        {
          "data": {
            "image/png": "[encoded data removed]",
            "text/plain": [
              "<Figure size 640x480 with 2 Axes>"
            ]
          },
          "metadata": {},
          "output_type": "display_data"
        }
      ],
      "source": [
        "cm_display = metrics.ConfusionMatrixDisplay(confusion_matrix = cm, display_labels = [False, True])\n",
        "\n",
        "cm_display.plot(values_format=\"0.0f\", cmap='Greens')\n",
        "plt.show()"
      ]
    },
    {
      "cell_type": "markdown",
      "metadata": {},
      "source": [
        "### Under Sampling"
      ]
    },
    {
      "cell_type": "code",
      "execution_count": 16,
      "metadata": {},
      "outputs": [],
      "source": [
        "pos = df[df['stroke']==1]\n",
        "neg = df[df['stroke']==0]\n",
        "\n",
        "neg = neg.head(pos.shape[0])\n",
        "df_undersample = pd.concat([pos,neg],axis=0)\n",
        "df_undersample = shuffle(df_undersample , random_state=42)\n",
        "df_undersample.reset_index(drop=True, inplace=True)\n",
        "\n",
        "inputs = df_undersample.drop('stroke', axis=1).copy()\n",
        "target = df_undersample['stroke']"
      ]
    },
    {
      "cell_type": "code",
      "execution_count": 17,
      "metadata": {},
      "outputs": [
        {
          "data": {
            "text/plain": [
              "5"
            ]
          },
          "execution_count": 17,
          "metadata": {},
          "output_type": "execute_result"
        }
      ],
      "source": [
        "X = inputs.values\n",
        "y = target.values\n",
        "\n",
        "kf = KFold(n_splits = k_folds)\n",
        "kf.get_n_splits(X)"
      ]
    },
    {
      "cell_type": "code",
      "execution_count": 18,
      "metadata": {},
      "outputs": [
        {
          "name": "stdout",
          "output_type": "stream",
          "text": [
            "Confusion matrix:\n",
            "[[174.  75.]\n",
            " [ 53. 196.]]\n",
            "\n",
            "Classification Reports:\n",
            "Classification Report for fold 1 :\n",
            "              precision    recall  f1-score   support\n",
            "\n",
            "           0       0.76      0.65      0.70        49\n",
            "           1       0.71      0.80      0.75        51\n",
            "\n",
            "    accuracy                           0.73       100\n",
            "   macro avg       0.73      0.73      0.73       100\n",
            "weighted avg       0.73      0.73      0.73       100\n",
            "\n",
            "Classification Report for fold 2 :\n",
            "              precision    recall  f1-score   support\n",
            "\n",
            "           0       0.70      0.71      0.70        45\n",
            "           1       0.76      0.75      0.75        55\n",
            "\n",
            "    accuracy                           0.73       100\n",
            "   macro avg       0.73      0.73      0.73       100\n",
            "weighted avg       0.73      0.73      0.73       100\n",
            "\n",
            "Classification Report for fold 3 :\n",
            "              precision    recall  f1-score   support\n",
            "\n",
            "           0       0.80      0.68      0.74        57\n",
            "           1       0.65      0.77      0.70        43\n",
            "\n",
            "    accuracy                           0.72       100\n",
            "   macro avg       0.72      0.73      0.72       100\n",
            "weighted avg       0.73      0.72      0.72       100\n",
            "\n",
            "Classification Report for fold 4 :\n",
            "              precision    recall  f1-score   support\n",
            "\n",
            "           0       0.76      0.72      0.74        43\n",
            "           1       0.79      0.82      0.81        56\n",
            "\n",
            "    accuracy                           0.78        99\n",
            "   macro avg       0.77      0.77      0.77        99\n",
            "weighted avg       0.78      0.78      0.78        99\n",
            "\n",
            "Classification Report for fold 5 :\n",
            "              precision    recall  f1-score   support\n",
            "\n",
            "           0       0.82      0.73      0.77        55\n",
            "           1       0.70      0.80      0.74        44\n",
            "\n",
            "    accuracy                           0.76        99\n",
            "   macro avg       0.76      0.76      0.76        99\n",
            "weighted avg       0.76      0.76      0.76        99\n",
            "\n",
            "accuracy of each fold - [0.73, 0.73, 0.72, 0.7777777777777778, 0.7575757575757576]\n",
            "Avg accuracy : 0.743070707070707\n",
            "Avg F1 : 0.75168264209225\n",
            "Weighted incorrect classification metric: 1.214859437751004\n"
          ]
        }
      ],
      "source": [
        "acc_score = []\n",
        "f1_score_array = []\n",
        "\n",
        "cm = np.zeros((2, 2))\n",
        "\n",
        "\n",
        "classification_reports = []\n",
        "\n",
        "for fold_idx, (train_index, test_index) in enumerate(kf.split(X)):\n",
        "    X_train, X_test = X[train_index], X[test_index]\n",
        "    y_train, y_test = y[train_index], y[test_index]\n",
        "\n",
        "    x_train_smote, y_train_smote = smote.fit_resample(X_train, y_train)\n",
        "\n",
        "    rf.fit(x_train_smote, y_train_smote)\n",
        "\n",
        "    pred_values =rf.predict(X_test)\n",
        "\n",
        "    cm += confusion_matrix(y_test, pred_values)\n",
        "\n",
        "    report = classification_report(y_test, pred_values)\n",
        "\n",
        "    classification_reports.append(report)\n",
        "\n",
        "    acc = accuracy_score(pred_values , y_test)\n",
        "    acc_score.append(acc)\n",
        "\n",
        "    f1 = f1_score(pred_values,  y_test)\n",
        "    f1_score_array.append(f1)\n",
        "\n",
        "avg_acc_score = np.mean(acc_score)\n",
        "\n",
        "print('Confusion matrix:')\n",
        "print(cm)\n",
        "\n",
        "print('\\nClassification Reports:')\n",
        "for fold_idx, report in enumerate(classification_reports):\n",
        "    print('Classification Report for fold', fold_idx + 1, ':')\n",
        "    print(report)\n",
        "\n",
        "avg_acc_score = sum(acc_score)/5\n",
        "\n",
        "print('accuracy of each fold - {}'.format(acc_score))\n",
        "print('Avg accuracy : {}'.format(avg_acc_score))\n",
        "print('Avg F1 : {}'.format(np.mean(f1_score_array)))\n",
        "tn, fp, fn, tp = cm.ravel()\n",
        "wicm = (10*fn + fp)/(tn + fp + fn + tp)\n",
        "print('Weighted incorrect classification metric: {}'.format(wicm))"
      ]
    },
    {
      "cell_type": "code",
      "execution_count": 19,
      "metadata": {},
      "outputs": [
        {
          "data": {
            "image/png": "[encoded data removed]",
            "text/plain": [
              "<Figure size 640x480 with 2 Axes>"
            ]
          },
          "metadata": {},
          "output_type": "display_data"
        }
      ],
      "source": [
        "cm_display = metrics.ConfusionMatrixDisplay(confusion_matrix = cm, display_labels = [False, True])\n",
        "\n",
        "cm_display.plot(values_format=\"0.0f\", cmap='Greens')\n",
        "plt.show()"
      ]
    }
  ],
  "metadata": {
    "colab": {
      "provenance": []
    },
    "kernelspec": {
      "display_name": "Python 3",
      "name": "python3"
    },
    "language_info": {
      "codemirror_mode": {
        "name": "ipython",
        "version": 3
      },
      "file_extension": ".py",
      "mimetype": "text/x-python",
      "name": "python",
      "nbconvert_exporter": "python",
      "pygments_lexer": "ipython3",
      "version": "3.12.2"
    }
  },
  "nbformat": 4,
  "nbformat_minor": 0
}
