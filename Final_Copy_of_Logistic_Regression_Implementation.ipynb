{
  "cells": [
    {
      "cell_type": "code",
      "execution_count": 1,
      "metadata": {
        "id": "h5fy1AavvVJ3"
      },
      "outputs": [],
      "source": [
        "import pandas as pd\n",
        "import numpy as np\n",
        "from pandas.api.types import is_numeric_dtype\n",
        "from sklearn.model_selection import KFold\n",
        "from sklearn.preprocessing import OneHotEncoder\n",
        "from sklearn.model_selection import train_test_split\n",
        "from sklearn.linear_model import LogisticRegression\n",
        "from sklearn import metrics\n",
        "import matplotlib.pyplot as plt\n",
        "import seaborn as sns\n",
        "from sklearn.metrics import classification_report\n",
        "from imblearn.over_sampling import SMOTE\n",
        "from sklearn.model_selection import KFold, cross_val_score\n",
        "from sklearn.metrics import accuracy_score, confusion_matrix\n",
        "from matplotlib.ticker import ScalarFormatter\n",
        "from sklearn.metrics import f1_score\n",
        "from sklearn.utils import shuffle"
      ]
    },
    {
      "cell_type": "code",
      "execution_count": 2,
      "metadata": {
        "id": "UWKBu_I0ryqg"
      },
      "outputs": [],
      "source": [
        "k_folds = 5"
      ]
    },
    {
      "cell_type": "markdown",
      "metadata": {
        "id": "zBb2RvIUzQty"
      },
      "source": [
        "Read in Stroke Dataset"
      ]
    },
    {
      "cell_type": "code",
      "execution_count": 3,
      "metadata": {
        "id": "LFlpENnYrpzI"
      },
      "outputs": [],
      "source": [
        "strokeDatasetURL = 'https://raw.githubusercontent.com/JosiahJoeking/Stroke-Dataset/main/healthcare-dataset-stroke-data.csv'\n",
        "df = pd.read_csv(strokeDatasetURL)"
      ]
    },
    {
      "cell_type": "markdown",
      "metadata": {
        "id": "iFUNywmv1FnU"
      },
      "source": [
        "Calculate Average of stroke"
      ]
    },
    {
      "cell_type": "code",
      "execution_count": 4,
      "metadata": {
        "id": "Dj6U3WxOzOGT"
      },
      "outputs": [],
      "source": [
        "strokeAVG = df.loc[:, 'stroke'].mean()"
      ]
    },
    {
      "cell_type": "code",
      "execution_count": 5,
      "metadata": {
        "id": "clAQ68xrwbeA"
      },
      "outputs": [],
      "source": [
        "BMI_avg = df.loc[:, 'bmi'].mean()\n",
        "df = df.fillna(value = BMI_avg)\n",
        "\n",
        "df.drop(columns=['id'], inplace=True)\n",
        "\n",
        "nan_df = df[df.isna().any(axis=1)]\n",
        "no_nan_df = df.dropna()"
      ]
    },
    {
      "cell_type": "code",
      "execution_count": 6,
      "metadata": {
        "colab": {
          "base_uri": "https://localhost:8080/",
          "height": 461
        },
        "id": "xOYzUWnrb5E-",
        "outputId": "157e755c-6483-4d63-c6a0-14e66ac44372"
      },
      "outputs": [
        {
          "data": {
            "text/html": [
              "<div>\n",
              "<style scoped>\n",
              "    .dataframe tbody tr th:only-of-type {\n",
              "        vertical-align: middle;\n",
              "    }\n",
              "\n",
              "    .dataframe tbody tr th {\n",
              "        vertical-align: top;\n",
              "    }\n",
              "\n",
              "    .dataframe thead th {\n",
              "        text-align: right;\n",
              "    }\n",
              "</style>\n",
              "<table border=\"1\" class=\"dataframe\">\n",
              "  <thead>\n",
              "    <tr style=\"text-align: right;\">\n",
              "      <th></th>\n",
              "      <th>age</th>\n",
              "      <th>hypertension</th>\n",
              "      <th>heart_disease</th>\n",
              "      <th>avg_glucose_level</th>\n",
              "      <th>bmi</th>\n",
              "      <th>stroke</th>\n",
              "      <th>gender_Female</th>\n",
              "      <th>gender_Male</th>\n",
              "      <th>gender_Other</th>\n",
              "      <th>ever_married_No</th>\n",
              "      <th>...</th>\n",
              "      <th>work_type_Never_worked</th>\n",
              "      <th>work_type_Private</th>\n",
              "      <th>work_type_Self-employed</th>\n",
              "      <th>work_type_children</th>\n",
              "      <th>Residence_type_Rural</th>\n",
              "      <th>Residence_type_Urban</th>\n",
              "      <th>smoking_status_Unknown</th>\n",
              "      <th>smoking_status_formerly smoked</th>\n",
              "      <th>smoking_status_never smoked</th>\n",
              "      <th>smoking_status_smokes</th>\n",
              "    </tr>\n",
              "  </thead>\n",
              "  <tbody>\n",
              "    <tr>\n",
              "      <th>0</th>\n",
              "      <td>17.0</td>\n",
              "      <td>0</td>\n",
              "      <td>0</td>\n",
              "      <td>92.97</td>\n",
              "      <td>28.893237</td>\n",
              "      <td>0</td>\n",
              "      <td>True</td>\n",
              "      <td>False</td>\n",
              "      <td>False</td>\n",
              "      <td>True</td>\n",
              "      <td>...</td>\n",
              "      <td>False</td>\n",
              "      <td>True</td>\n",
              "      <td>False</td>\n",
              "      <td>False</td>\n",
              "      <td>False</td>\n",
              "      <td>True</td>\n",
              "      <td>False</td>\n",
              "      <td>True</td>\n",
              "      <td>False</td>\n",
              "      <td>False</td>\n",
              "    </tr>\n",
              "    <tr>\n",
              "      <th>1</th>\n",
              "      <td>13.0</td>\n",
              "      <td>0</td>\n",
              "      <td>0</td>\n",
              "      <td>85.81</td>\n",
              "      <td>18.600000</td>\n",
              "      <td>0</td>\n",
              "      <td>True</td>\n",
              "      <td>False</td>\n",
              "      <td>False</td>\n",
              "      <td>True</td>\n",
              "      <td>...</td>\n",
              "      <td>False</td>\n",
              "      <td>False</td>\n",
              "      <td>False</td>\n",
              "      <td>True</td>\n",
              "      <td>True</td>\n",
              "      <td>False</td>\n",
              "      <td>True</td>\n",
              "      <td>False</td>\n",
              "      <td>False</td>\n",
              "      <td>False</td>\n",
              "    </tr>\n",
              "    <tr>\n",
              "      <th>2</th>\n",
              "      <td>55.0</td>\n",
              "      <td>0</td>\n",
              "      <td>0</td>\n",
              "      <td>89.17</td>\n",
              "      <td>31.500000</td>\n",
              "      <td>0</td>\n",
              "      <td>False</td>\n",
              "      <td>True</td>\n",
              "      <td>False</td>\n",
              "      <td>False</td>\n",
              "      <td>...</td>\n",
              "      <td>False</td>\n",
              "      <td>True</td>\n",
              "      <td>False</td>\n",
              "      <td>False</td>\n",
              "      <td>False</td>\n",
              "      <td>True</td>\n",
              "      <td>False</td>\n",
              "      <td>False</td>\n",
              "      <td>True</td>\n",
              "      <td>False</td>\n",
              "    </tr>\n",
              "    <tr>\n",
              "      <th>3</th>\n",
              "      <td>42.0</td>\n",
              "      <td>0</td>\n",
              "      <td>0</td>\n",
              "      <td>98.53</td>\n",
              "      <td>18.500000</td>\n",
              "      <td>0</td>\n",
              "      <td>True</td>\n",
              "      <td>False</td>\n",
              "      <td>False</td>\n",
              "      <td>True</td>\n",
              "      <td>...</td>\n",
              "      <td>False</td>\n",
              "      <td>True</td>\n",
              "      <td>False</td>\n",
              "      <td>False</td>\n",
              "      <td>False</td>\n",
              "      <td>True</td>\n",
              "      <td>False</td>\n",
              "      <td>False</td>\n",
              "      <td>True</td>\n",
              "      <td>False</td>\n",
              "    </tr>\n",
              "    <tr>\n",
              "      <th>4</th>\n",
              "      <td>31.0</td>\n",
              "      <td>0</td>\n",
              "      <td>0</td>\n",
              "      <td>108.89</td>\n",
              "      <td>52.300000</td>\n",
              "      <td>0</td>\n",
              "      <td>True</td>\n",
              "      <td>False</td>\n",
              "      <td>False</td>\n",
              "      <td>True</td>\n",
              "      <td>...</td>\n",
              "      <td>False</td>\n",
              "      <td>True</td>\n",
              "      <td>False</td>\n",
              "      <td>False</td>\n",
              "      <td>False</td>\n",
              "      <td>True</td>\n",
              "      <td>True</td>\n",
              "      <td>False</td>\n",
              "      <td>False</td>\n",
              "      <td>False</td>\n",
              "    </tr>\n",
              "    <tr>\n",
              "      <th>...</th>\n",
              "      <td>...</td>\n",
              "      <td>...</td>\n",
              "      <td>...</td>\n",
              "      <td>...</td>\n",
              "      <td>...</td>\n",
              "      <td>...</td>\n",
              "      <td>...</td>\n",
              "      <td>...</td>\n",
              "      <td>...</td>\n",
              "      <td>...</td>\n",
              "      <td>...</td>\n",
              "      <td>...</td>\n",
              "      <td>...</td>\n",
              "      <td>...</td>\n",
              "      <td>...</td>\n",
              "      <td>...</td>\n",
              "      <td>...</td>\n",
              "      <td>...</td>\n",
              "      <td>...</td>\n",
              "      <td>...</td>\n",
              "      <td>...</td>\n",
              "    </tr>\n",
              "    <tr>\n",
              "      <th>5105</th>\n",
              "      <td>57.0</td>\n",
              "      <td>1</td>\n",
              "      <td>0</td>\n",
              "      <td>129.54</td>\n",
              "      <td>60.900000</td>\n",
              "      <td>0</td>\n",
              "      <td>True</td>\n",
              "      <td>False</td>\n",
              "      <td>False</td>\n",
              "      <td>False</td>\n",
              "      <td>...</td>\n",
              "      <td>False</td>\n",
              "      <td>True</td>\n",
              "      <td>False</td>\n",
              "      <td>False</td>\n",
              "      <td>True</td>\n",
              "      <td>False</td>\n",
              "      <td>False</td>\n",
              "      <td>False</td>\n",
              "      <td>False</td>\n",
              "      <td>True</td>\n",
              "    </tr>\n",
              "    <tr>\n",
              "      <th>5106</th>\n",
              "      <td>19.0</td>\n",
              "      <td>0</td>\n",
              "      <td>0</td>\n",
              "      <td>90.57</td>\n",
              "      <td>24.200000</td>\n",
              "      <td>0</td>\n",
              "      <td>True</td>\n",
              "      <td>False</td>\n",
              "      <td>False</td>\n",
              "      <td>True</td>\n",
              "      <td>...</td>\n",
              "      <td>False</td>\n",
              "      <td>True</td>\n",
              "      <td>False</td>\n",
              "      <td>False</td>\n",
              "      <td>False</td>\n",
              "      <td>True</td>\n",
              "      <td>True</td>\n",
              "      <td>False</td>\n",
              "      <td>False</td>\n",
              "      <td>False</td>\n",
              "    </tr>\n",
              "    <tr>\n",
              "      <th>5107</th>\n",
              "      <td>45.0</td>\n",
              "      <td>0</td>\n",
              "      <td>0</td>\n",
              "      <td>172.33</td>\n",
              "      <td>45.300000</td>\n",
              "      <td>0</td>\n",
              "      <td>True</td>\n",
              "      <td>False</td>\n",
              "      <td>False</td>\n",
              "      <td>False</td>\n",
              "      <td>...</td>\n",
              "      <td>False</td>\n",
              "      <td>True</td>\n",
              "      <td>False</td>\n",
              "      <td>False</td>\n",
              "      <td>False</td>\n",
              "      <td>True</td>\n",
              "      <td>False</td>\n",
              "      <td>True</td>\n",
              "      <td>False</td>\n",
              "      <td>False</td>\n",
              "    </tr>\n",
              "    <tr>\n",
              "      <th>5108</th>\n",
              "      <td>53.0</td>\n",
              "      <td>1</td>\n",
              "      <td>0</td>\n",
              "      <td>62.55</td>\n",
              "      <td>30.300000</td>\n",
              "      <td>1</td>\n",
              "      <td>True</td>\n",
              "      <td>False</td>\n",
              "      <td>False</td>\n",
              "      <td>False</td>\n",
              "      <td>...</td>\n",
              "      <td>False</td>\n",
              "      <td>True</td>\n",
              "      <td>False</td>\n",
              "      <td>False</td>\n",
              "      <td>False</td>\n",
              "      <td>True</td>\n",
              "      <td>True</td>\n",
              "      <td>False</td>\n",
              "      <td>False</td>\n",
              "      <td>False</td>\n",
              "    </tr>\n",
              "    <tr>\n",
              "      <th>5109</th>\n",
              "      <td>2.0</td>\n",
              "      <td>0</td>\n",
              "      <td>0</td>\n",
              "      <td>102.92</td>\n",
              "      <td>17.600000</td>\n",
              "      <td>0</td>\n",
              "      <td>True</td>\n",
              "      <td>False</td>\n",
              "      <td>False</td>\n",
              "      <td>True</td>\n",
              "      <td>...</td>\n",
              "      <td>False</td>\n",
              "      <td>False</td>\n",
              "      <td>False</td>\n",
              "      <td>True</td>\n",
              "      <td>False</td>\n",
              "      <td>True</td>\n",
              "      <td>True</td>\n",
              "      <td>False</td>\n",
              "      <td>False</td>\n",
              "      <td>False</td>\n",
              "    </tr>\n",
              "  </tbody>\n",
              "</table>\n",
              "<p>5110 rows × 22 columns</p>\n",
              "</div>"
            ],
            "text/plain": [
              "       age  hypertension  heart_disease  avg_glucose_level        bmi  stroke  \\\n",
              "0     17.0             0              0              92.97  28.893237       0   \n",
              "1     13.0             0              0              85.81  18.600000       0   \n",
              "2     55.0             0              0              89.17  31.500000       0   \n",
              "3     42.0             0              0              98.53  18.500000       0   \n",
              "4     31.0             0              0             108.89  52.300000       0   \n",
              "...    ...           ...            ...                ...        ...     ...   \n",
              "5105  57.0             1              0             129.54  60.900000       0   \n",
              "5106  19.0             0              0              90.57  24.200000       0   \n",
              "5107  45.0             0              0             172.33  45.300000       0   \n",
              "5108  53.0             1              0              62.55  30.300000       1   \n",
              "5109   2.0             0              0             102.92  17.600000       0   \n",
              "\n",
              "      gender_Female  gender_Male  gender_Other  ever_married_No  ...  \\\n",
              "0              True        False         False             True  ...   \n",
              "1              True        False         False             True  ...   \n",
              "2             False         True         False            False  ...   \n",
              "3              True        False         False             True  ...   \n",
              "4              True        False         False             True  ...   \n",
              "...             ...          ...           ...              ...  ...   \n",
              "5105           True        False         False            False  ...   \n",
              "5106           True        False         False             True  ...   \n",
              "5107           True        False         False            False  ...   \n",
              "5108           True        False         False            False  ...   \n",
              "5109           True        False         False             True  ...   \n",
              "\n",
              "      work_type_Never_worked  work_type_Private  work_type_Self-employed  \\\n",
              "0                      False               True                    False   \n",
              "1                      False              False                    False   \n",
              "2                      False               True                    False   \n",
              "3                      False               True                    False   \n",
              "4                      False               True                    False   \n",
              "...                      ...                ...                      ...   \n",
              "5105                   False               True                    False   \n",
              "5106                   False               True                    False   \n",
              "5107                   False               True                    False   \n",
              "5108                   False               True                    False   \n",
              "5109                   False              False                    False   \n",
              "\n",
              "      work_type_children  Residence_type_Rural  Residence_type_Urban  \\\n",
              "0                  False                 False                  True   \n",
              "1                   True                  True                 False   \n",
              "2                  False                 False                  True   \n",
              "3                  False                 False                  True   \n",
              "4                  False                 False                  True   \n",
              "...                  ...                   ...                   ...   \n",
              "5105               False                  True                 False   \n",
              "5106               False                 False                  True   \n",
              "5107               False                 False                  True   \n",
              "5108               False                 False                  True   \n",
              "5109                True                 False                  True   \n",
              "\n",
              "      smoking_status_Unknown  smoking_status_formerly smoked  \\\n",
              "0                      False                            True   \n",
              "1                       True                           False   \n",
              "2                      False                           False   \n",
              "3                      False                           False   \n",
              "4                       True                           False   \n",
              "...                      ...                             ...   \n",
              "5105                   False                           False   \n",
              "5106                    True                           False   \n",
              "5107                   False                            True   \n",
              "5108                    True                           False   \n",
              "5109                    True                           False   \n",
              "\n",
              "      smoking_status_never smoked  smoking_status_smokes  \n",
              "0                           False                  False  \n",
              "1                           False                  False  \n",
              "2                            True                  False  \n",
              "3                            True                  False  \n",
              "4                           False                  False  \n",
              "...                           ...                    ...  \n",
              "5105                        False                   True  \n",
              "5106                        False                  False  \n",
              "5107                        False                  False  \n",
              "5108                        False                  False  \n",
              "5109                        False                  False  \n",
              "\n",
              "[5110 rows x 22 columns]"
            ]
          },
          "execution_count": 6,
          "metadata": {},
          "output_type": "execute_result"
        }
      ],
      "source": [
        "df_encoded = pd.get_dummies(df, columns=['gender', 'ever_married', 'work_type', 'Residence_type', 'smoking_status'])\n",
        "df_encoded"
      ]
    },
    {
      "cell_type": "markdown",
      "metadata": {},
      "source": [
        "### Normal"
      ]
    },
    {
      "cell_type": "code",
      "execution_count": 7,
      "metadata": {
        "colab": {
          "base_uri": "https://localhost:8080/"
        },
        "id": "K2CyZV9VmcAJ",
        "outputId": "2faa3028-0a10-402e-ed99-e57a5e936ab7"
      },
      "outputs": [
        {
          "data": {
            "text/plain": [
              "5"
            ]
          },
          "execution_count": 7,
          "metadata": {},
          "output_type": "execute_result"
        }
      ],
      "source": [
        "inputs = df_encoded.drop(\"stroke\", axis=1).copy()\n",
        "target = df_encoded[\"stroke\"]\n",
        "\n",
        "X = inputs.values\n",
        "y = target.values\n",
        "\n",
        "kf = KFold(n_splits = k_folds)\n",
        "kf.get_n_splits(X)"
      ]
    },
    {
      "cell_type": "code",
      "execution_count": 8,
      "metadata": {
        "id": "rCQxtMgL1AZp"
      },
      "outputs": [],
      "source": [
        "lr = LogisticRegression(random_state=42, max_iter = 2000)"
      ]
    },
    {
      "cell_type": "code",
      "execution_count": 9,
      "metadata": {
        "colab": {
          "base_uri": "https://localhost:8080/"
        },
        "id": "SiNZvi0BtvNG",
        "outputId": "6bb5361e-0a34-4cf2-a8c1-628923fe8d1c"
      },
      "outputs": [
        {
          "name": "stderr",
          "output_type": "stream",
          "text": [
            "c:\\Users\\josia\\AppData\\Local\\Programs\\Python\\Python312\\Lib\\site-packages\\sklearn\\metrics\\_classification.py:1509: UndefinedMetricWarning: Precision is ill-defined and being set to 0.0 in labels with no predicted samples. Use `zero_division` parameter to control this behavior.\n",
            "  _warn_prf(average, modifier, f\"{metric.capitalize()} is\", len(result))\n",
            "c:\\Users\\josia\\AppData\\Local\\Programs\\Python\\Python312\\Lib\\site-packages\\sklearn\\metrics\\_classification.py:1509: UndefinedMetricWarning: Precision is ill-defined and being set to 0.0 in labels with no predicted samples. Use `zero_division` parameter to control this behavior.\n",
            "  _warn_prf(average, modifier, f\"{metric.capitalize()} is\", len(result))\n",
            "c:\\Users\\josia\\AppData\\Local\\Programs\\Python\\Python312\\Lib\\site-packages\\sklearn\\metrics\\_classification.py:1509: UndefinedMetricWarning: Precision is ill-defined and being set to 0.0 in labels with no predicted samples. Use `zero_division` parameter to control this behavior.\n",
            "  _warn_prf(average, modifier, f\"{metric.capitalize()} is\", len(result))\n",
            "c:\\Users\\josia\\AppData\\Local\\Programs\\Python\\Python312\\Lib\\site-packages\\sklearn\\metrics\\_classification.py:1509: UndefinedMetricWarning: Precision is ill-defined and being set to 0.0 in labels with no predicted samples. Use `zero_division` parameter to control this behavior.\n",
            "  _warn_prf(average, modifier, f\"{metric.capitalize()} is\", len(result))\n",
            "c:\\Users\\josia\\AppData\\Local\\Programs\\Python\\Python312\\Lib\\site-packages\\sklearn\\metrics\\_classification.py:1509: UndefinedMetricWarning: Precision is ill-defined and being set to 0.0 in labels with no predicted samples. Use `zero_division` parameter to control this behavior.\n",
            "  _warn_prf(average, modifier, f\"{metric.capitalize()} is\", len(result))\n",
            "c:\\Users\\josia\\AppData\\Local\\Programs\\Python\\Python312\\Lib\\site-packages\\sklearn\\metrics\\_classification.py:1509: UndefinedMetricWarning: Precision is ill-defined and being set to 0.0 in labels with no predicted samples. Use `zero_division` parameter to control this behavior.\n",
            "  _warn_prf(average, modifier, f\"{metric.capitalize()} is\", len(result))\n",
            "c:\\Users\\josia\\AppData\\Local\\Programs\\Python\\Python312\\Lib\\site-packages\\sklearn\\metrics\\_classification.py:1509: UndefinedMetricWarning: Precision is ill-defined and being set to 0.0 in labels with no predicted samples. Use `zero_division` parameter to control this behavior.\n",
            "  _warn_prf(average, modifier, f\"{metric.capitalize()} is\", len(result))\n",
            "c:\\Users\\josia\\AppData\\Local\\Programs\\Python\\Python312\\Lib\\site-packages\\sklearn\\metrics\\_classification.py:1509: UndefinedMetricWarning: Precision is ill-defined and being set to 0.0 in labels with no predicted samples. Use `zero_division` parameter to control this behavior.\n",
            "  _warn_prf(average, modifier, f\"{metric.capitalize()} is\", len(result))\n",
            "c:\\Users\\josia\\AppData\\Local\\Programs\\Python\\Python312\\Lib\\site-packages\\sklearn\\metrics\\_classification.py:1509: UndefinedMetricWarning: Precision is ill-defined and being set to 0.0 in labels with no predicted samples. Use `zero_division` parameter to control this behavior.\n",
            "  _warn_prf(average, modifier, f\"{metric.capitalize()} is\", len(result))\n"
          ]
        },
        {
          "name": "stdout",
          "output_type": "stream",
          "text": [
            "Confusion matrix:\n",
            "[[4.86e+03 1.00e+00]\n",
            " [2.48e+02 1.00e+00]]\n",
            "\n",
            "Classification Reports:\n",
            "Classification Report for fold 1 :\n",
            "              precision    recall  f1-score   support\n",
            "\n",
            "           0       0.95      1.00      0.97       969\n",
            "           1       0.00      0.00      0.00        53\n",
            "\n",
            "    accuracy                           0.95      1022\n",
            "   macro avg       0.47      0.50      0.49      1022\n",
            "weighted avg       0.90      0.95      0.92      1022\n",
            "\n",
            "Classification Report for fold 2 :\n",
            "              precision    recall  f1-score   support\n",
            "\n",
            "           0       0.96      1.00      0.98       980\n",
            "           1       1.00      0.02      0.05        42\n",
            "\n",
            "    accuracy                           0.96      1022\n",
            "   macro avg       0.98      0.51      0.51      1022\n",
            "weighted avg       0.96      0.96      0.94      1022\n",
            "\n",
            "Classification Report for fold 3 :\n",
            "              precision    recall  f1-score   support\n",
            "\n",
            "           0       0.95      1.00      0.97       966\n",
            "           1       0.00      0.00      0.00        56\n",
            "\n",
            "    accuracy                           0.95      1022\n",
            "   macro avg       0.47      0.50      0.49      1022\n",
            "weighted avg       0.89      0.95      0.92      1022\n",
            "\n",
            "Classification Report for fold 4 :\n",
            "              precision    recall  f1-score   support\n",
            "\n",
            "           0       0.96      1.00      0.98       983\n",
            "           1       0.00      0.00      0.00        39\n",
            "\n",
            "    accuracy                           0.96      1022\n",
            "   macro avg       0.48      0.50      0.49      1022\n",
            "weighted avg       0.93      0.96      0.94      1022\n",
            "\n",
            "Classification Report for fold 5 :\n",
            "              precision    recall  f1-score   support\n",
            "\n",
            "           0       0.94      1.00      0.97       963\n",
            "           1       0.00      0.00      0.00        59\n",
            "\n",
            "    accuracy                           0.94      1022\n",
            "   macro avg       0.47      0.50      0.48      1022\n",
            "weighted avg       0.89      0.94      0.91      1022\n",
            "\n",
            "accuracy of each fold - [0.9481409001956947, 0.9598825831702544, 0.9452054794520548, 0.961839530332681, 0.9412915851272016]\n",
            "Avg accuracy : 0.9512720156555773\n",
            "Avg F1 : 0.009302325581395349\n",
            "Weighted incorrect classification metric: 0.48551859099804306\n"
          ]
        }
      ],
      "source": [
        "acc_score = []\n",
        "f1_score_array = []\n",
        "\n",
        "cm = np.zeros((2, 2))\n",
        "\n",
        "\n",
        "classification_reports = []\n",
        "\n",
        "for fold_idx, (train_index, test_index) in enumerate(kf.split(X)):\n",
        "    X_train, X_test = X[train_index], X[test_index]\n",
        "    y_train, y_test = y[train_index], y[test_index]\n",
        "\n",
        "    lr.fit(X_train, y_train)\n",
        "\n",
        "    pred_values = lr.predict(X_test)\n",
        "\n",
        "    cm += confusion_matrix(y_test, pred_values)\n",
        "\n",
        "    report = classification_report(y_test, pred_values)\n",
        "\n",
        "    classification_reports.append(report)\n",
        "\n",
        "    acc = accuracy_score(pred_values , y_test)\n",
        "    acc_score.append(acc)\n",
        "    f1 = f1_score(pred_values,  y_test)\n",
        "    f1_score_array.append(f1)\n",
        "\n",
        "avg_acc_score = np.mean(acc_score)\n",
        "\n",
        "print('Confusion matrix:')\n",
        "print(cm)\n",
        "\n",
        "print('\\nClassification Reports:')\n",
        "for fold_idx, report in enumerate(classification_reports):\n",
        "    print('Classification Report for fold', fold_idx + 1, ':')\n",
        "    print(report)\n",
        "\n",
        "avg_acc_score = sum(acc_score)/k_folds\n",
        "\n",
        "print('accuracy of each fold - {}'.format(acc_score))\n",
        "print('Avg accuracy : {}'.format(avg_acc_score))\n",
        "print('Avg F1 : {}'.format(np.mean(f1_score_array)))\n",
        "tn, fp, fn, tp = cm.ravel()\n",
        "wicm = (10*fn + fp)/(tn + fp + fn + tp)\n",
        "print('Weighted incorrect classification metric: {}'.format(wicm))"
      ]
    },
    {
      "cell_type": "code",
      "execution_count": 10,
      "metadata": {
        "colab": {
          "base_uri": "https://localhost:8080/",
          "height": 449
        },
        "id": "A9_NnK1nylgT",
        "outputId": "126376ec-18c0-402b-d8e3-b13030f2fca2"
      },
      "outputs": [
        {
          "data": {
            "image/png": "[encoded data removed]",
            "text/plain": [
              "<Figure size 640x480 with 2 Axes>"
            ]
          },
          "metadata": {},
          "output_type": "display_data"
        }
      ],
      "source": [
        "cm_display = metrics.ConfusionMatrixDisplay(confusion_matrix = cm, display_labels = [False, True])\n",
        "\n",
        "cm_display.plot(values_format=\"0.0f\", cmap='Greens')\n",
        "plt.gca().yaxis.set_major_formatter(ScalarFormatter(useMathText=True, useOffset=False))\n",
        "plt.show()"
      ]
    },
    {
      "cell_type": "markdown",
      "metadata": {},
      "source": [
        "### Over Sampling"
      ]
    },
    {
      "cell_type": "code",
      "execution_count": 11,
      "metadata": {
        "id": "R_zDrMcpgKqp"
      },
      "outputs": [],
      "source": [
        "smote = SMOTE(random_state = 42)"
      ]
    },
    {
      "cell_type": "code",
      "execution_count": 12,
      "metadata": {
        "id": "nnk2HI8l9HMU"
      },
      "outputs": [],
      "source": [
        "shuffled_df = df_encoded.sample(frac=1, random_state=42)\n",
        "shuffled_df.reset_index(inplace=True)\n",
        "shuffled_df.drop(columns=['index'], inplace=True)"
      ]
    },
    {
      "cell_type": "code",
      "execution_count": 13,
      "metadata": {
        "colab": {
          "base_uri": "https://localhost:8080/"
        },
        "id": "TTCqaO3T9USg",
        "outputId": "4c4f4b49-f6c6-43dd-f70a-3cdee3451618"
      },
      "outputs": [
        {
          "data": {
            "text/plain": [
              "5"
            ]
          },
          "execution_count": 13,
          "metadata": {},
          "output_type": "execute_result"
        }
      ],
      "source": [
        "inputs = shuffled_df.drop(\"stroke\", axis=1).copy()\n",
        "target = shuffled_df[\"stroke\"]\n",
        "\n",
        "X = inputs.values\n",
        "y = target.values\n",
        "\n",
        "kf = KFold(n_splits = k_folds)\n",
        "kf.get_n_splits(X)"
      ]
    },
    {
      "cell_type": "code",
      "execution_count": 14,
      "metadata": {
        "colab": {
          "base_uri": "https://localhost:8080/"
        },
        "id": "Ziv-tSjN9eUp",
        "outputId": "f34aaeda-e169-417a-bf5e-3a4ef4d22f9c"
      },
      "outputs": [
        {
          "name": "stdout",
          "output_type": "stream",
          "text": [
            "Confusion matrix:\n",
            "[[3609. 1252.]\n",
            " [  54.  195.]]\n",
            "\n",
            "Classification Reports:\n",
            "Classification Report for fold 1 :\n",
            "              precision    recall  f1-score   support\n",
            "\n",
            "           0       0.99      0.76      0.86       971\n",
            "           1       0.15      0.82      0.26        51\n",
            "\n",
            "    accuracy                           0.77      1022\n",
            "   macro avg       0.57      0.79      0.56      1022\n",
            "weighted avg       0.95      0.77      0.83      1022\n",
            "\n",
            "Classification Report for fold 2 :\n",
            "              precision    recall  f1-score   support\n",
            "\n",
            "           0       0.98      0.73      0.84       978\n",
            "           1       0.10      0.66      0.17        44\n",
            "\n",
            "    accuracy                           0.73      1022\n",
            "   macro avg       0.54      0.70      0.51      1022\n",
            "weighted avg       0.94      0.73      0.81      1022\n",
            "\n",
            "Classification Report for fold 3 :\n",
            "              precision    recall  f1-score   support\n",
            "\n",
            "           0       0.99      0.73      0.84       973\n",
            "           1       0.13      0.84      0.23        49\n",
            "\n",
            "    accuracy                           0.73      1022\n",
            "   macro avg       0.56      0.78      0.53      1022\n",
            "weighted avg       0.95      0.73      0.81      1022\n",
            "\n",
            "Classification Report for fold 4 :\n",
            "              precision    recall  f1-score   support\n",
            "\n",
            "           0       0.98      0.74      0.85       964\n",
            "           1       0.15      0.78      0.26        58\n",
            "\n",
            "    accuracy                           0.75      1022\n",
            "   macro avg       0.57      0.76      0.55      1022\n",
            "weighted avg       0.94      0.75      0.81      1022\n",
            "\n",
            "Classification Report for fold 5 :\n",
            "              precision    recall  f1-score   support\n",
            "\n",
            "           0       0.99      0.75      0.85       975\n",
            "           1       0.13      0.81      0.23        47\n",
            "\n",
            "    accuracy                           0.75      1022\n",
            "   macro avg       0.56      0.78      0.54      1022\n",
            "weighted avg       0.95      0.75      0.82      1022\n",
            "\n",
            "accuracy of each fold - [0.7661448140900196, 0.7289628180039139, 0.7309197651663405, 0.7465753424657534, 0.7495107632093934]\n",
            "Avg accuracy : 0.7444227005870842\n",
            "Avg F1 : 0.22993668868492279\n",
            "Weighted incorrect classification metric: 0.3506849315068493\n"
          ]
        }
      ],
      "source": [
        "acc_score = []\n",
        "f1_score_array = []\n",
        "\n",
        "\n",
        "cm = np.zeros((2, 2))\n",
        "\n",
        "\n",
        "classification_reports = []\n",
        "\n",
        "for fold_idx, (train_index, test_index) in enumerate(kf.split(X)):\n",
        "    X_train, X_test = X[train_index], X[test_index]\n",
        "    y_train, y_test = y[train_index], y[test_index]\n",
        "\n",
        "    x_train_smote, y_train_smote = smote.fit_resample(X_train, y_train)\n",
        "\n",
        "    lr.fit(x_train_smote, y_train_smote)\n",
        "\n",
        "    pred_values =lr.predict(X_test)\n",
        "\n",
        "    cm += confusion_matrix(y_test, pred_values)\n",
        "\n",
        "    report = classification_report(y_test, pred_values)\n",
        "\n",
        "    classification_reports.append(report)\n",
        "\n",
        "    acc = accuracy_score(pred_values , y_test)\n",
        "    acc_score.append(acc)\n",
        "\n",
        "    f1 = f1_score(pred_values,  y_test)\n",
        "    f1_score_array.append(f1)\n",
        "\n",
        "avg_acc_score = np.mean(acc_score)\n",
        "\n",
        "print('Confusion matrix:')\n",
        "print(cm)\n",
        "\n",
        "print('\\nClassification Reports:')\n",
        "for fold_idx, report in enumerate(classification_reports):\n",
        "    print('Classification Report for fold', fold_idx + 1, ':')\n",
        "    print(report)\n",
        "\n",
        "avg_acc_score = sum(acc_score)/k_folds\n",
        "\n",
        "print('accuracy of each fold - {}'.format(acc_score))\n",
        "print('Avg accuracy : {}'.format(avg_acc_score))\n",
        "print('Avg F1 : {}'.format(np.mean(f1_score_array)))\n",
        "tn, fp, fn, tp = cm.ravel()\n",
        "wicm = (10*fn + fp)/(tn + fp + fn + tp)\n",
        "print('Weighted incorrect classification metric: {}'.format(wicm))"
      ]
    },
    {
      "cell_type": "code",
      "execution_count": 15,
      "metadata": {
        "colab": {
          "base_uri": "https://localhost:8080/",
          "height": 449
        },
        "id": "gdCW9PBU9xbJ",
        "outputId": "48fa133f-3cd5-48f9-e91d-d6e188205fc4"
      },
      "outputs": [
        {
          "data": {
            "image/png": "[encoded data removed]",
            "text/plain": [
              "<Figure size 640x480 with 2 Axes>"
            ]
          },
          "metadata": {},
          "output_type": "display_data"
        }
      ],
      "source": [
        "cm_display = metrics.ConfusionMatrixDisplay(confusion_matrix = cm, display_labels = [False, True])\n",
        "\n",
        "cm_display.plot(values_format=\"0.0f\", cmap='Greens')\n",
        "plt.gca().yaxis.set_major_formatter(ScalarFormatter(useMathText=True, useOffset=False))\n",
        "plt.show()"
      ]
    },
    {
      "cell_type": "markdown",
      "metadata": {},
      "source": [
        "### Under Sampling"
      ]
    },
    {
      "cell_type": "code",
      "execution_count": 16,
      "metadata": {},
      "outputs": [],
      "source": [
        "pos = df_encoded[df_encoded['stroke']==1]\n",
        "neg = df_encoded[df_encoded['stroke']==0]\n",
        "\n",
        "neg = neg.head(pos.shape[0])\n",
        "df_undersample = pd.concat([pos,neg],axis=0)\n",
        "df_undersample = shuffle(df_undersample , random_state=42)\n",
        "df_undersample.reset_index(drop=True, inplace=True)\n",
        "\n",
        "inputs = df_undersample.drop('stroke', axis=1).copy()\n",
        "target = df_undersample['stroke']"
      ]
    },
    {
      "cell_type": "code",
      "execution_count": 17,
      "metadata": {},
      "outputs": [
        {
          "data": {
            "text/plain": [
              "5"
            ]
          },
          "execution_count": 17,
          "metadata": {},
          "output_type": "execute_result"
        }
      ],
      "source": [
        "X = inputs.values\n",
        "y = target.values\n",
        "\n",
        "kf = KFold(n_splits = k_folds)\n",
        "kf.get_n_splits(X)"
      ]
    },
    {
      "cell_type": "code",
      "execution_count": 18,
      "metadata": {},
      "outputs": [
        {
          "name": "stdout",
          "output_type": "stream",
          "text": [
            "Confusion matrix:\n",
            "[[179.  70.]\n",
            " [ 56. 193.]]\n",
            "\n",
            "Classification Reports:\n",
            "Classification Report for fold 1 :\n",
            "              precision    recall  f1-score   support\n",
            "\n",
            "           0       0.78      0.73      0.76        49\n",
            "           1       0.76      0.80      0.78        51\n",
            "\n",
            "    accuracy                           0.77       100\n",
            "   macro avg       0.77      0.77      0.77       100\n",
            "weighted avg       0.77      0.77      0.77       100\n",
            "\n",
            "Classification Report for fold 2 :\n",
            "              precision    recall  f1-score   support\n",
            "\n",
            "           0       0.75      0.73      0.74        45\n",
            "           1       0.79      0.80      0.79        55\n",
            "\n",
            "    accuracy                           0.77       100\n",
            "   macro avg       0.77      0.77      0.77       100\n",
            "weighted avg       0.77      0.77      0.77       100\n",
            "\n",
            "Classification Report for fold 3 :\n",
            "              precision    recall  f1-score   support\n",
            "\n",
            "           0       0.79      0.72      0.75        57\n",
            "           1       0.67      0.74      0.70        43\n",
            "\n",
            "    accuracy                           0.73       100\n",
            "   macro avg       0.73      0.73      0.73       100\n",
            "weighted avg       0.74      0.73      0.73       100\n",
            "\n",
            "Classification Report for fold 4 :\n",
            "              precision    recall  f1-score   support\n",
            "\n",
            "           0       0.73      0.70      0.71        43\n",
            "           1       0.78      0.80      0.79        56\n",
            "\n",
            "    accuracy                           0.76        99\n",
            "   macro avg       0.75      0.75      0.75        99\n",
            "weighted avg       0.76      0.76      0.76        99\n",
            "\n",
            "Classification Report for fold 5 :\n",
            "              precision    recall  f1-score   support\n",
            "\n",
            "           0       0.75      0.71      0.73        55\n",
            "           1       0.66      0.70      0.68        44\n",
            "\n",
            "    accuracy                           0.71        99\n",
            "   macro avg       0.70      0.71      0.71        99\n",
            "weighted avg       0.71      0.71      0.71        99\n",
            "\n",
            "accuracy of each fold - [0.77, 0.77, 0.73, 0.7575757575757576, 0.7070707070707071]\n",
            "Avg accuracy : 0.7469292929292929\n",
            "Avg F1 : 0.7495668485142171\n",
            "Weighted incorrect classification metric: 1.2650602409638554\n"
          ]
        }
      ],
      "source": [
        "acc_score = []\n",
        "f1_score_array = []\n",
        "\n",
        "\n",
        "cm = np.zeros((2, 2))\n",
        "\n",
        "\n",
        "classification_reports = []\n",
        "\n",
        "for fold_idx, (train_index, test_index) in enumerate(kf.split(X)):\n",
        "    X_train, X_test = X[train_index], X[test_index]\n",
        "    y_train, y_test = y[train_index], y[test_index]\n",
        "\n",
        "    x_train_smote, y_train_smote = smote.fit_resample(X_train, y_train)\n",
        "\n",
        "    lr.fit(x_train_smote, y_train_smote)\n",
        "\n",
        "    pred_values =lr.predict(X_test)\n",
        "\n",
        "    cm += confusion_matrix(y_test, pred_values)\n",
        "\n",
        "    report = classification_report(y_test, pred_values)\n",
        "\n",
        "    classification_reports.append(report)\n",
        "\n",
        "    acc = accuracy_score(pred_values , y_test)\n",
        "    acc_score.append(acc)\n",
        "\n",
        "    f1 = f1_score(pred_values,  y_test)\n",
        "    f1_score_array.append(f1)\n",
        "\n",
        "avg_acc_score = np.mean(acc_score)\n",
        "\n",
        "print('Confusion matrix:')\n",
        "print(cm)\n",
        "\n",
        "print('\\nClassification Reports:')\n",
        "for fold_idx, report in enumerate(classification_reports):\n",
        "    print('Classification Report for fold', fold_idx + 1, ':')\n",
        "    print(report)\n",
        "\n",
        "avg_acc_score = sum(acc_score)/k_folds\n",
        "\n",
        "print('accuracy of each fold - {}'.format(acc_score))\n",
        "print('Avg accuracy : {}'.format(avg_acc_score))\n",
        "print('Avg F1 : {}'.format(np.mean(f1_score_array)))\n",
        "tn, fp, fn, tp = cm.ravel()\n",
        "wicm = (10*fn + fp)/(tn + fp + fn + tp)\n",
        "print('Weighted incorrect classification metric: {}'.format(wicm))"
      ]
    },
    {
      "cell_type": "code",
      "execution_count": 19,
      "metadata": {},
      "outputs": [
        {
          "data": {
            "image/png": "[encoded data removed]",
            "text/plain": [
              "<Figure size 640x480 with 2 Axes>"
            ]
          },
          "metadata": {},
          "output_type": "display_data"
        }
      ],
      "source": [
        "cm_display = metrics.ConfusionMatrixDisplay(confusion_matrix = cm, display_labels = [False, True])\n",
        "\n",
        "cm_display.plot(values_format=\"0.0f\", cmap='Greens')\n",
        "plt.gca().yaxis.set_major_formatter(ScalarFormatter(useMathText=True, useOffset=False))\n",
        "plt.show()"
      ]
    }
  ],
  "metadata": {
    "colab": {
      "provenance": []
    },
    "kernelspec": {
      "display_name": "Python 3",
      "name": "python3"
    },
    "language_info": {
      "codemirror_mode": {
        "name": "ipython",
        "version": 3
      },
      "file_extension": ".py",
      "mimetype": "text/x-python",
      "name": "python",
      "nbconvert_exporter": "python",
      "pygments_lexer": "ipython3",
      "version": "3.12.2"
    }
  },
  "nbformat": 4,
  "nbformat_minor": 0
}
