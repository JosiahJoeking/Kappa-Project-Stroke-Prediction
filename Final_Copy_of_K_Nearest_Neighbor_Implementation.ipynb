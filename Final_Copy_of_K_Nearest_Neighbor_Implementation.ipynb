{
  "cells": [
    {
      "cell_type": "code",
      "execution_count": 1,
      "metadata": {
        "id": "h5fy1AavvVJ3"
      },
      "outputs": [],
      "source": [
        "import pandas as pd\n",
        "import numpy as np\n",
        "from pandas.api.types import is_numeric_dtype\n",
        "from sklearn.model_selection import KFold\n",
        "from sklearn.metrics import accuracy_score, precision_score, recall_score\n",
        "from sklearn.preprocessing import OneHotEncoder\n",
        "from sklearn.preprocessing import StandardScaler\n",
        "from sklearn.model_selection import train_test_split\n",
        "from sklearn import metrics\n",
        "import matplotlib.pyplot as plt\n",
        "import seaborn as sns\n",
        "from sklearn.metrics import classification_report, confusion_matrix , ConfusionMatrixDisplay\n",
        "from sklearn.neighbors import KNeighborsClassifier\n",
        "from sklearn.model_selection import cross_val_score\n",
        "from imblearn.over_sampling import SMOTE\n",
        "from sklearn.metrics import f1_score\n",
        "from sklearn.utils import shuffle"
      ]
    },
    {
      "cell_type": "markdown",
      "metadata": {
        "id": "zBb2RvIUzQty"
      },
      "source": [
        "Read in Stroke Dataset"
      ]
    },
    {
      "cell_type": "code",
      "execution_count": 2,
      "metadata": {
        "id": "LFlpENnYrpzI"
      },
      "outputs": [],
      "source": [
        "strokeDatasetURL = 'https://raw.githubusercontent.com/JosiahJoeking/Stroke-Dataset/main/healthcare-dataset-stroke-data.csv'\n",
        "df = pd.read_csv(strokeDatasetURL)"
      ]
    },
    {
      "cell_type": "markdown",
      "metadata": {
        "id": "iFUNywmv1FnU"
      },
      "source": [
        "Calculate Average of stroke"
      ]
    },
    {
      "cell_type": "code",
      "execution_count": 3,
      "metadata": {
        "id": "Dj6U3WxOzOGT"
      },
      "outputs": [],
      "source": [
        "strokeAVG = df.loc[:, 'stroke'].mean()"
      ]
    },
    {
      "cell_type": "code",
      "execution_count": 4,
      "metadata": {
        "id": "clAQ68xrwbeA"
      },
      "outputs": [],
      "source": [
        "BMI_avg = df.loc[:, 'bmi'].mean()\n",
        "df = df.fillna(value = BMI_avg)\n",
        "\n",
        "df.drop(columns=['id'], inplace=True)\n",
        "\n",
        "nan_df = df[df.isna().any(axis=1)]\n",
        "no_nan_df = df.dropna()"
      ]
    },
    {
      "cell_type": "code",
      "execution_count": 5,
      "metadata": {
        "id": "xOYzUWnrb5E-"
      },
      "outputs": [],
      "source": [
        "df_encoded = pd.get_dummies(no_nan_df, columns=['gender', 'ever_married', 'work_type', 'Residence_type', 'smoking_status'])"
      ]
    },
    {
      "cell_type": "code",
      "execution_count": 6,
      "metadata": {
        "id": "RZIsCClfM5XQ"
      },
      "outputs": [],
      "source": [
        "k_folds = 5"
      ]
    },
    {
      "cell_type": "markdown",
      "metadata": {},
      "source": [
        "### Normal"
      ]
    },
    {
      "cell_type": "code",
      "execution_count": 7,
      "metadata": {
        "colab": {
          "base_uri": "https://localhost:8080/"
        },
        "id": "K2CyZV9VmcAJ",
        "outputId": "8efa6d8a-80d8-4524-9b6b-cb4245451be0"
      },
      "outputs": [
        {
          "data": {
            "text/plain": [
              "5"
            ]
          },
          "execution_count": 7,
          "metadata": {},
          "output_type": "execute_result"
        }
      ],
      "source": [
        "inputs = df_encoded.drop(\"stroke\", axis=1).copy()\n",
        "target = df_encoded[\"stroke\"]\n",
        "\n",
        "X = inputs.values\n",
        "y = target.values\n",
        "\n",
        "kf = KFold(n_splits = k_folds)\n",
        "kf.get_n_splits(X)"
      ]
    },
    {
      "cell_type": "code",
      "execution_count": 8,
      "metadata": {
        "colab": {
          "base_uri": "https://localhost:8080/"
        },
        "id": "NGtptKTtCFdr",
        "outputId": "e6761b02-97d9-41de-800f-2f160a2d6871"
      },
      "outputs": [
        {
          "name": "stdout",
          "output_type": "stream",
          "text": [
            "              precision    recall  f1-score   support\n",
            "\n",
            "           0       0.95      1.00      0.97       969\n",
            "           1       0.00      0.00      0.00        53\n",
            "\n",
            "    accuracy                           0.95      1022\n",
            "   macro avg       0.47      0.50      0.49      1022\n",
            "weighted avg       0.90      0.95      0.92      1022\n",
            "\n",
            "              precision    recall  f1-score   support\n",
            "\n",
            "           0       0.96      1.00      0.98       980\n",
            "           1       0.67      0.05      0.09        42\n",
            "\n",
            "    accuracy                           0.96      1022\n",
            "   macro avg       0.81      0.52      0.53      1022\n",
            "weighted avg       0.95      0.96      0.94      1022\n",
            "\n",
            "              precision    recall  f1-score   support\n",
            "\n",
            "           0       0.95      1.00      0.97       966\n",
            "           1       1.00      0.02      0.04        56\n",
            "\n",
            "    accuracy                           0.95      1022\n",
            "   macro avg       0.97      0.51      0.50      1022\n",
            "weighted avg       0.95      0.95      0.92      1022\n",
            "\n",
            "              precision    recall  f1-score   support\n",
            "\n",
            "           0       0.96      1.00      0.98       983\n",
            "           1       1.00      0.03      0.05        39\n",
            "\n",
            "    accuracy                           0.96      1022\n",
            "   macro avg       0.98      0.51      0.52      1022\n",
            "weighted avg       0.96      0.96      0.95      1022\n",
            "\n",
            "              precision    recall  f1-score   support\n",
            "\n",
            "           0       0.94      1.00      0.97       963\n",
            "           1       1.00      0.02      0.03        59\n",
            "\n",
            "    accuracy                           0.94      1022\n",
            "   macro avg       0.97      0.51      0.50      1022\n",
            "weighted avg       0.95      0.94      0.92      1022\n",
            "\n",
            "accuracy of each fold - [0.9471624266144814, 0.9598825831702544, 0.9461839530332681, 0.9628180039138943, 0.9432485322896281]\n",
            "Avg accuracy : 0.9518590998043053\n",
            "Avg F1 : 0.04146198830409357\n",
            "Weighted incorrect classification metric: 0.47788649706457925\n"
          ]
        }
      ],
      "source": [
        "feature_df = df_encoded.drop('stroke', axis = 1)\n",
        "stroke_df = df_encoded['stroke']\n",
        "cm = np.zeros((2, 2))\n",
        "acc_score = []\n",
        "f1_score_array = []\n",
        "\n",
        "for fold_idx, (train_index, test_index) in enumerate(kf.split(X)):\n",
        "  X_train, X_test = X[train_index], X[test_index]\n",
        "  y_train, y_test = y[train_index], y[test_index]\n",
        "\n",
        "\n",
        "  scaler = StandardScaler()\n",
        "  feature_train = scaler.fit_transform(X_train)\n",
        "  feature_test = scaler.transform(X_test)\n",
        "  k_values = [i for i in range (1,31)]\n",
        "  scores = []\n",
        "\n",
        "  scaler = StandardScaler()\n",
        "  B = scaler.fit_transform(feature_df)\n",
        "\n",
        "  for k in k_values:\n",
        "    knn = KNeighborsClassifier(n_neighbors=k)\n",
        "    score = cross_val_score(knn, B, stroke_df, cv=5)\n",
        "    scores.append(np.mean(score))\n",
        "  best_index = np.argmax(scores)\n",
        "  best_k = k_values[best_index]\n",
        "\n",
        "  knn = KNeighborsClassifier(n_neighbors=best_k)\n",
        "  knn.fit(feature_train, y_train)\n",
        "  pred_values = knn.predict(feature_test)\n",
        "\n",
        "  cm += confusion_matrix(y_test, pred_values)\n",
        "  print(classification_report(y_test, pred_values))\n",
        "\n",
        "  acc = accuracy_score(pred_values , y_test)\n",
        "  acc_score.append(acc)\n",
        "  f1 = f1_score(pred_values,  y_test)\n",
        "  f1_score_array.append(f1)\n",
        "\n",
        "avg_acc_score = np.mean(acc_score)\n",
        "print('accuracy of each fold - {}'.format(acc_score))\n",
        "print('Avg accuracy : {}'.format(avg_acc_score))\n",
        "print('Avg F1 : {}'.format(np.mean(f1_score_array)))\n",
        "tn, fp, fn, tp = cm.ravel()\n",
        "wicm = (10*fn + fp)/(tn + fp + fn + tp)\n",
        "print('Weighted incorrect classification metric: {}'.format(wicm))"
      ]
    },
    {
      "cell_type": "code",
      "execution_count": 9,
      "metadata": {
        "colab": {
          "base_uri": "https://localhost:8080/",
          "height": 449
        },
        "id": "IZRlSUHqnpbv",
        "outputId": "8b7ac923-7a3f-4c2a-ff5a-b9393c2caf96"
      },
      "outputs": [
        {
          "data": {
            "image/png": "[encoded data removed]",
            "text/plain": [
              "<Figure size 640x480 with 2 Axes>"
            ]
          },
          "metadata": {},
          "output_type": "display_data"
        }
      ],
      "source": [
        "cm_display = ConfusionMatrixDisplay(confusion_matrix = cm, display_labels = [False, True])\n",
        "\n",
        "cm_display.plot(values_format=\"0.0f\", cmap='Greens')\n",
        "plt.show()"
      ]
    },
    {
      "cell_type": "markdown",
      "metadata": {},
      "source": [
        "### Over Sampling"
      ]
    },
    {
      "cell_type": "code",
      "execution_count": 10,
      "metadata": {
        "id": "-hgUlxUmkI9O"
      },
      "outputs": [],
      "source": [
        "smote = SMOTE(random_state = 42)"
      ]
    },
    {
      "cell_type": "code",
      "execution_count": 11,
      "metadata": {
        "id": "294AXMBenMjz"
      },
      "outputs": [],
      "source": [
        "shuffled_df = df_encoded.sample(frac=1, random_state=42)\n",
        "shuffled_df.reset_index(inplace=True)\n",
        "shuffled_df.drop(columns=['index'], inplace=True)"
      ]
    },
    {
      "cell_type": "code",
      "execution_count": 12,
      "metadata": {
        "colab": {
          "base_uri": "https://localhost:8080/"
        },
        "id": "vnM320iLnPeZ",
        "outputId": "3b08ad03-ffec-4211-d224-df3b76422d17"
      },
      "outputs": [
        {
          "data": {
            "text/plain": [
              "5"
            ]
          },
          "execution_count": 12,
          "metadata": {},
          "output_type": "execute_result"
        }
      ],
      "source": [
        "inputs = shuffled_df.drop(\"stroke\", axis=1).copy()\n",
        "target = shuffled_df[\"stroke\"]\n",
        "\n",
        "X = inputs.values\n",
        "y = target.values\n",
        "\n",
        "kf = KFold(n_splits = k_folds)\n",
        "kf.get_n_splits(X)"
      ]
    },
    {
      "cell_type": "code",
      "execution_count": 13,
      "metadata": {
        "colab": {
          "base_uri": "https://localhost:8080/"
        },
        "id": "2xVcsEqcnTzs",
        "outputId": "2059765a-44d7-4469-bac2-ac53f0a0dc45"
      },
      "outputs": [
        {
          "name": "stdout",
          "output_type": "stream",
          "text": [
            "              precision    recall  f1-score   support\n",
            "\n",
            "           0       0.96      0.90      0.93       971\n",
            "           1       0.09      0.20      0.13        51\n",
            "\n",
            "    accuracy                           0.87      1022\n",
            "   macro avg       0.52      0.55      0.53      1022\n",
            "weighted avg       0.91      0.87      0.89      1022\n",
            "\n",
            "              precision    recall  f1-score   support\n",
            "\n",
            "           0       0.96      0.88      0.92       978\n",
            "           1       0.06      0.18      0.09        44\n",
            "\n",
            "    accuracy                           0.85      1022\n",
            "   macro avg       0.51      0.53      0.51      1022\n",
            "weighted avg       0.92      0.85      0.88      1022\n",
            "\n",
            "              precision    recall  f1-score   support\n",
            "\n",
            "           0       0.96      0.90      0.93       973\n",
            "           1       0.07      0.16      0.10        49\n",
            "\n",
            "    accuracy                           0.86      1022\n",
            "   macro avg       0.51      0.53      0.51      1022\n",
            "weighted avg       0.91      0.86      0.89      1022\n",
            "\n",
            "              precision    recall  f1-score   support\n",
            "\n",
            "           0       0.95      0.91      0.93       964\n",
            "           1       0.12      0.21      0.15        58\n",
            "\n",
            "    accuracy                           0.87      1022\n",
            "   macro avg       0.54      0.56      0.54      1022\n",
            "weighted avg       0.90      0.87      0.89      1022\n",
            "\n",
            "              precision    recall  f1-score   support\n",
            "\n",
            "           0       0.97      0.91      0.94       975\n",
            "           1       0.17      0.38      0.23        47\n",
            "\n",
            "    accuracy                           0.88      1022\n",
            "   macro avg       0.57      0.65      0.58      1022\n",
            "weighted avg       0.93      0.88      0.90      1022\n",
            "\n",
            "accuracy of each fold - [0.8659491193737769, 0.8493150684931506, 0.863013698630137, 0.8698630136986302, 0.8835616438356164]\n",
            "Avg accuracy : 0.8663405088062623\n",
            "Avg F1 : 0.14183891824182376\n",
            "Weighted incorrect classification metric: 0.4735812133072407\n"
          ]
        }
      ],
      "source": [
        "feature_df = shuffled_df.drop('stroke', axis = 1)\n",
        "stroke_df = shuffled_df['stroke']\n",
        "cm = np.zeros((2, 2))\n",
        "acc_score = []\n",
        "f1_score_array = []\n",
        "\n",
        "for fold_idx, (train_index, test_index) in enumerate(kf.split(X)):\n",
        "  X_train, X_test = X[train_index], X[test_index]\n",
        "  y_train, y_test = y[train_index], y[test_index]\n",
        "\n",
        "  X_train, y_train = smote.fit_resample(X_train, y_train)\n",
        "\n",
        "  scaler = StandardScaler()\n",
        "  feature_train = scaler.fit_transform(X_train)\n",
        "  feature_test = scaler.transform(X_test)\n",
        "  k_values = [i for i in range (1,31)]\n",
        "  scores = []\n",
        "\n",
        "  scaler = StandardScaler()\n",
        "  B = scaler.fit_transform(feature_df)\n",
        "\n",
        "  for k in k_values:\n",
        "    knn = KNeighborsClassifier(n_neighbors=k)\n",
        "    score = cross_val_score(knn, B, stroke_df, cv=5)\n",
        "    scores.append(np.mean(score))\n",
        "  best_index = np.argmax(scores)\n",
        "  best_k = k_values[best_index]\n",
        "\n",
        "  knn = KNeighborsClassifier(n_neighbors=best_k)\n",
        "  knn.fit(feature_train, y_train)\n",
        "  pred_values = knn.predict(feature_test)\n",
        "\n",
        "  cm += confusion_matrix(y_test, pred_values)\n",
        "  print(classification_report(y_test, pred_values))\n",
        "\n",
        "  acc = accuracy_score(pred_values , y_test)\n",
        "  acc_score.append(acc)\n",
        "  f1 = f1_score(pred_values,  y_test)\n",
        "  f1_score_array.append(f1)\n",
        "\n",
        "avg_acc_score = np.mean(acc_score)\n",
        "print('accuracy of each fold - {}'.format(acc_score))\n",
        "print('Avg accuracy : {}'.format(avg_acc_score))\n",
        "print('Avg F1 : {}'.format(np.mean(f1_score_array)))\n",
        "tn, fp, fn, tp = cm.ravel()\n",
        "wicm = (10*fn + fp)/(tn + fp + fn + tp)\n",
        "print('Weighted incorrect classification metric: {}'.format(wicm))"
      ]
    },
    {
      "cell_type": "code",
      "execution_count": 14,
      "metadata": {
        "colab": {
          "base_uri": "https://localhost:8080/",
          "height": 449
        },
        "id": "HIikWcRKRbYR",
        "outputId": "a342c942-1208-4df1-978e-94e03f7f676b"
      },
      "outputs": [
        {
          "data": {
            "image/png": "[encoded data removed]",
            "text/plain": [
              "<Figure size 640x480 with 2 Axes>"
            ]
          },
          "metadata": {},
          "output_type": "display_data"
        }
      ],
      "source": [
        "cm_display = ConfusionMatrixDisplay(confusion_matrix = cm, display_labels = [False, True])\n",
        "\n",
        "cm_display.plot(values_format=\"0.0f\", cmap='Greens')\n",
        "plt.show()"
      ]
    },
    {
      "cell_type": "markdown",
      "metadata": {},
      "source": [
        "### Under Sampling"
      ]
    },
    {
      "cell_type": "code",
      "execution_count": 15,
      "metadata": {},
      "outputs": [],
      "source": [
        "pos = df_encoded[df_encoded['stroke']==1]\n",
        "neg = df_encoded[df_encoded['stroke']==0]\n",
        "\n",
        "neg = neg.head(pos.shape[0])\n",
        "df_undersample = pd.concat([pos,neg],axis=0)\n",
        "df_undersample = shuffle(df_undersample , random_state=42)\n",
        "df_undersample.reset_index(drop=True, inplace=True)\n",
        "\n",
        "inputs = df_undersample.drop('stroke', axis=1).copy()\n",
        "target = df_undersample['stroke']"
      ]
    },
    {
      "cell_type": "code",
      "execution_count": 16,
      "metadata": {},
      "outputs": [
        {
          "data": {
            "text/plain": [
              "5"
            ]
          },
          "execution_count": 16,
          "metadata": {},
          "output_type": "execute_result"
        }
      ],
      "source": [
        "X = inputs.values\n",
        "y = target.values\n",
        "\n",
        "kf = KFold(n_splits = k_folds)\n",
        "kf.get_n_splits(X)"
      ]
    },
    {
      "cell_type": "code",
      "execution_count": 17,
      "metadata": {},
      "outputs": [
        {
          "name": "stdout",
          "output_type": "stream",
          "text": [
            "              precision    recall  f1-score   support\n",
            "\n",
            "           0       0.73      0.65      0.69        49\n",
            "           1       0.70      0.76      0.73        51\n",
            "\n",
            "    accuracy                           0.71       100\n",
            "   macro avg       0.71      0.71      0.71       100\n",
            "weighted avg       0.71      0.71      0.71       100\n",
            "\n",
            "              precision    recall  f1-score   support\n",
            "\n",
            "           0       0.68      0.60      0.64        45\n",
            "           1       0.70      0.76      0.73        55\n",
            "\n",
            "    accuracy                           0.69       100\n",
            "   macro avg       0.69      0.68      0.68       100\n",
            "weighted avg       0.69      0.69      0.69       100\n",
            "\n",
            "              precision    recall  f1-score   support\n",
            "\n",
            "           0       0.72      0.74      0.73        57\n",
            "           1       0.64      0.63      0.64        43\n",
            "\n",
            "    accuracy                           0.69       100\n",
            "   macro avg       0.68      0.68      0.68       100\n",
            "weighted avg       0.69      0.69      0.69       100\n",
            "\n",
            "              precision    recall  f1-score   support\n",
            "\n",
            "           0       0.63      0.67      0.65        43\n",
            "           1       0.74      0.70      0.72        56\n",
            "\n",
            "    accuracy                           0.69        99\n",
            "   macro avg       0.68      0.69      0.68        99\n",
            "weighted avg       0.69      0.69      0.69        99\n",
            "\n",
            "              precision    recall  f1-score   support\n",
            "\n",
            "           0       0.76      0.67      0.71        55\n",
            "           1       0.64      0.73      0.68        44\n",
            "\n",
            "    accuracy                           0.70        99\n",
            "   macro avg       0.70      0.70      0.70        99\n",
            "weighted avg       0.70      0.70      0.70        99\n",
            "\n",
            "accuracy of each fold - [0.71, 0.69, 0.69, 0.6868686868686869, 0.696969696969697]\n",
            "Avg accuracy : 0.6947676767676768\n",
            "Avg F1 : 0.6982296513955187\n",
            "Weighted incorrect classification metric: 1.570281124497992\n"
          ]
        }
      ],
      "source": [
        "feature_df = df_undersample.drop('stroke', axis = 1)\n",
        "stroke_df = df_undersample['stroke']\n",
        "cm = np.zeros((2, 2))\n",
        "acc_score = []\n",
        "f1_score_array = []\n",
        "\n",
        "for fold_idx, (train_index, test_index) in enumerate(kf.split(X)):\n",
        "  X_train, X_test = X[train_index], X[test_index]\n",
        "  y_train, y_test = y[train_index], y[test_index]\n",
        "\n",
        "  X_train, y_train = smote.fit_resample(X_train, y_train)\n",
        "\n",
        "  scaler = StandardScaler()\n",
        "  feature_train = scaler.fit_transform(X_train)\n",
        "  feature_test = scaler.transform(X_test)\n",
        "  k_values = [i for i in range (1,31)]\n",
        "  scores = []\n",
        "\n",
        "  scaler = StandardScaler()\n",
        "  B = scaler.fit_transform(feature_df)\n",
        "\n",
        "  for k in k_values:\n",
        "    knn = KNeighborsClassifier(n_neighbors=k)\n",
        "    score = cross_val_score(knn, B, stroke_df, cv=5)\n",
        "    scores.append(np.mean(score))\n",
        "  best_index = np.argmax(scores)\n",
        "  best_k = k_values[best_index]\n",
        "\n",
        "  knn = KNeighborsClassifier(n_neighbors=best_k)\n",
        "  knn.fit(feature_train, y_train)\n",
        "  pred_values = knn.predict(feature_test)\n",
        "\n",
        "  cm += confusion_matrix(y_test, pred_values)\n",
        "  print(classification_report(y_test, pred_values))\n",
        "\n",
        "  acc = accuracy_score(pred_values , y_test)\n",
        "  acc_score.append(acc)\n",
        "  f1 = f1_score(pred_values,  y_test)\n",
        "  f1_score_array.append(f1)\n",
        "\n",
        "avg_acc_score = np.mean(acc_score)\n",
        "print('accuracy of each fold - {}'.format(acc_score))\n",
        "print('Avg accuracy : {}'.format(avg_acc_score))\n",
        "print('Avg F1 : {}'.format(np.mean(f1_score_array)))\n",
        "tn, fp, fn, tp = cm.ravel()\n",
        "wicm = (10*fn + fp)/(tn + fp + fn + tp)\n",
        "print('Weighted incorrect classification metric: {}'.format(wicm))"
      ]
    },
    {
      "cell_type": "code",
      "execution_count": 18,
      "metadata": {},
      "outputs": [
        {
          "data": {
            "image/png": "[encoded data removed]",
            "text/plain": [
              "<Figure size 640x480 with 2 Axes>"
            ]
          },
          "metadata": {},
          "output_type": "display_data"
        }
      ],
      "source": [
        "cm_display = ConfusionMatrixDisplay(confusion_matrix = cm, display_labels = [False, True])\n",
        "\n",
        "cm_display.plot(values_format=\"0.0f\", cmap='Greens')\n",
        "plt.show()"
      ]
    }
  ],
  "metadata": {
    "colab": {
      "provenance": []
    },
    "kernelspec": {
      "display_name": "Python 3",
      "name": "python3"
    },
    "language_info": {
      "codemirror_mode": {
        "name": "ipython",
        "version": 3
      },
      "file_extension": ".py",
      "mimetype": "text/x-python",
      "name": "python",
      "nbconvert_exporter": "python",
      "pygments_lexer": "ipython3",
      "version": "3.12.2"
    }
  },
  "nbformat": 4,
  "nbformat_minor": 0
}
